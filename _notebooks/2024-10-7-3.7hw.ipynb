{
 "cells": [
  {
   "cell_type": "raw",
   "metadata": {
    "vscode": {
     "languageId": "raw"
    }
   },
   "source": [
    "---\n",
    "layout: post\n",
    "title: 3.7 HW\n",
    "description:  3.7 HW and Popcorn Hacks\n",
    "type: issues \n",
    "comments: true\n",
    "\n",
    "---"
   ]
  },
  {
   "cell_type": "code",
   "execution_count": 1,
   "metadata": {},
   "outputs": [
    {
     "name": "stdout",
     "output_type": "stream",
     "text": [
      "The weather is sunny\n",
      "Your transportation is available\n",
      "Your boots are not present\n",
      "Location determined: Yes the location is determined\n",
      "You need to find your boots first.\n"
     ]
    }
   ],
   "source": [
    "# Popcorn Hack 1\n",
    "weather = \"sunny\"\n",
    "transportation = \"available\"\n",
    "boots = \"not present\"\n",
    "location_determined = \"Yes the location is determined\"\n",
    "\n",
    "print(\"The weather is \" + weather)\n",
    "print(\"Your transportation is \" + transportation)\n",
    "print(\"Your boots are \" + boots)\n",
    "print(\"Location determined: \" + location_determined)\n",
    "\n",
    "\n",
    "\n",
    "if weather == \"sunny\":\n",
    "    if transportation == \"available\":\n",
    "        if boots == \"present\":\n",
    "            print(\"You are ready to go hiking!\")\n",
    "            if location_determined == \"yes\":\n",
    "                print(\"You are ready to go hiking!\")\n",
    "            else:\n",
    "                print(\"You need to find a hiking location first.\")\n",
    "        else:\n",
    "            print(\"You need to find your boots first.\")\n",
    "    else:\n",
    "        print(\"You need to arrange transportation.\")\n",
    "else:\n",
    "    print(\"It's not good weather for hiking.\")"
   ]
  },
  {
   "cell_type": "code",
   "execution_count": null,
   "metadata": {
    "vscode": {
     "languageId": "javascript"
    }
   },
   "outputs": [],
   "source": [
    "// Popcorn Hack 2\n",
    "%%javascript\n",
    "\n",
    "let weather = \"sunny\";\n",
    "let transportation = \"available\";\n",
    "let boots = \"not present\";\n",
    "let location_determined = \"Yes the location is determined\";\n",
    "\n",
    "console.log(\"The weather is \" + weather);\n",
    "console.log(\"Your transportation is \" + transportation);\n",
    "console.log(\"Your boots are \" + boots);\n",
    "console.log(\"Location determined: \" + location_determined);\n",
    "\n",
    "if (weather === \"sunny\") {\n",
    "    if (transportation === \"available\") {\n",
    "        if (boots === \"present\") {\n",
    "            if (location_determined === \"Yes the location is determined\") {\n",
    "                console.log(\"You are ready to go hiking!\");\n",
    "            } else {\n",
    "                console.log(\"You need to determine the hiking location first.\");\n",
    "            }\n",
    "        } else {\n",
    "            console.log(\"You need to find your boots first.\");\n",
    "        }\n",
    "    } else {\n",
    "        console.log(\"You need to arrange transportation.\");\n",
    "    }\n",
    "} else {\n",
    "    console.log(\"It's not good weather for hiking.\");\n",
    "}"
   ]
  },
  {
   "cell_type": "code",
   "execution_count": null,
   "metadata": {},
   "outputs": [],
   "source": [
    "# Homework Hack 1: Write Python pseudocode to decide whether or not to go to the beach.\n",
    "set weather to \"sunny\"\n",
    "set sunscreen to True\n",
    "set snacks to False\n",
    "\n",
    "IF weather IS \"sunny\" THEN:\n",
    "    IF sunscreen IS True THEN:\n",
    "        IF snacks IS True THEN:\n",
    "            PRINT \"You are ready to go to the beach!\"\n",
    "        ELSE:\n",
    "            PRINT \"You need to pack some snacks.\"\n",
    "        end of if statement\n",
    "    ELSE:\n",
    "        PRINT \"You need to pack some sunscreen.\"\n",
    "    end of if statement\n",
    "ELSE:\n",
    "    PRINT \"It's not good weather for the beach.\"\n",
    "end of if satement\n",
    "\n",
    "\n"
   ]
  },
  {
   "cell_type": "code",
   "execution_count": 2,
   "metadata": {},
   "outputs": [
    {
     "name": "stdout",
     "output_type": "stream",
     "text": [
      "You can adopt a pet!\n"
     ]
    }
   ],
   "source": [
    "# Homework Hack 2 Python: Adopt a pet\n",
    "age = 18\n",
    "space = 70\n",
    "available = True\n",
    "if age >= 18:\n",
    "    if space >= 50:\n",
    "        if available == True:\n",
    "            print(\"You can adopt a pet!\")\n",
    "        else: \n",
    "            print(\"You need to have time to spend with the pet\")\n",
    "    else:\n",
    "        print(\"You need to have enough space for the pet\")\n",
    "else:\n",
    "    print(\"You need to be at least 18 to adopt a pet\")"
   ]
  },
  {
   "cell_type": "code",
   "execution_count": 3,
   "metadata": {},
   "outputs": [
    {
     "name": "stdout",
     "output_type": "stream",
     "text": [
      "You should participate in the marathon!\n"
     ]
    }
   ],
   "source": [
    "# Homework Hack 3 Python: Should you participate in a marathon?\n",
    "weather = \"clear\"\n",
    "running_shoes = True\n",
    "days_practiced = 10\n",
    "\n",
    "if weather == \"clear\":\n",
    "    if running_shoes == True:\n",
    "        if days_practiced >= 10:\n",
    "            print(\"You should participate in the marathon!\")\n",
    "        else:\n",
    "            print(\"You need to practice more before participating in the marathon.\")\n",
    "    else:\n",
    "        print(\"You need running shoes to participate in the marathon.\")\n",
    "else:\n",
    "    print(\"The weather is not good for running a marathon.\")"
   ]
  },
  {
   "cell_type": "code",
   "execution_count": null,
   "metadata": {
    "vscode": {
     "languageId": "javascript"
    }
   },
   "outputs": [],
   "source": [
    "// Homework Hack 1 Javascript: Javascript pseudocode to decide whether or not to study for an exam.\n",
    "\n",
    "SET study_materials to TRUE\n",
    "SET have_quiet_place TO True\n",
    "SET feeling_tired TO False \n",
    "\n",
    "IF have_study_materials IS True THEN:\n",
    "    IF have_quiet_place IS True THEN:\n",
    "        IF feeling_tired IS False THEN:\n",
    "            PRINT \"You are ready to study.\"\n",
    "        ELSE:\n",
    "            PRINT \"You should take a nap or rest first.\"\n",
    "        end of if statement\n",
    "    ELSE:\n",
    "        PRINT \"You should find a quiet location.\"\n",
    "    end of if statement\n",
    "ELSE:\n",
    "    PRINT \"You need to gather your study materials first.\"\n",
    "end of if statement\n",
    "\n",
    "\n"
   ]
  },
  {
   "cell_type": "code",
   "execution_count": null,
   "metadata": {
    "vscode": {
     "languageId": "javascript"
    }
   },
   "outputs": [],
   "source": [
    "// Homework Hack 2 Javascript: Javascript code deciding whether or not you can bake a cake.\n",
    "let flour = true;\n",
    "let eggs = true;\n",
    "let sugar = true;\n",
    "let oven_working = true;\n",
    "let time_available = 5;\n",
    "\n",
    "if (flour && eggs && sugar) {\n",
    "    if (oven_working) {\n",
    "        if (time_available >= 2) {\n",
    "            console.log(\"You can bake a cake!\");\n",
    "        } else {\n",
    "            console.log(\"You don't have enough time to bake a cake.\");\n",
    "        }\n",
    "    } else {\n",
    "        console.log(\"Your oven is not working. You can't bake a cake.\");\n",
    "    }\n",
    "} else {\n",
    "    console.log(\"You are missing ingredients. You can't bake a cake.\");\n",
    "}\n",
    "\n"
   ]
  },
  {
   "cell_type": "code",
   "execution_count": null,
   "metadata": {
    "vscode": {
     "languageId": "javascript"
    }
   },
   "outputs": [],
   "source": [
    "// Homework Hack 3 Javascript: Camping trip\n",
    "\n",
    "let weather = \"clear\";\n",
    "let tent = true;\n",
    "let food = true;\n",
    "let water = true;\n",
    "\n",
    "if (weather === \"clear\") {\n",
    "    if(tent === true) {\n",
    "        if(food === true && water === true) {\n",
    "                console.log(\"You are ready for your camping trip!\");\n",
    "            } \n",
    "        else {\n",
    "                console.log(\"You need to pack more food and water.\");\n",
    "            }\n",
    "    }\n",
    "    else {\n",
    "        console.log(\"You need to pack a tent.\");\n",
    "    }\n",
    "}\n",
    "else {\n",
    "    console.log(\"The weather is not good for camping.\");\n",
    "}\n"
   ]
  }
 ],
 "metadata": {
  "kernelspec": {
   "display_name": "Python 3",
   "language": "python",
   "name": "python3"
  },
  "language_info": {
   "codemirror_mode": {
    "name": "ipython",
    "version": 3
   },
   "file_extension": ".py",
   "mimetype": "text/x-python",
   "name": "python",
   "nbconvert_exporter": "python",
   "pygments_lexer": "ipython3",
   "version": "3.10.12"
  }
 },
 "nbformat": 4,
 "nbformat_minor": 2
}
