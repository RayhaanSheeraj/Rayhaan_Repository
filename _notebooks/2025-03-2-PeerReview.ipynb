{
 "cells": [
  {
   "cell_type": "raw",
   "metadata": {
    "vscode": {
     "languageId": "raw"
    }
   },
   "source": [
    "---\n",
    "layout: post\n",
    "title: Peer Review Reflection\n",
    "description: Reflection on a Peer review with Pranav\n",
    "categories: [Collaboration]\n",
    "permalink: /PeerReview/\n",
    "type: collab\n",
    "comments: true\n",
    "---"
   ]
  },
  {
   "cell_type": "markdown",
   "metadata": {},
   "source": [
    "Comments\n",
    "Here you can comment about my website and I can use the feedback to further improve my website"
   ]
  },
  {
   "cell_type": "markdown",
   "metadata": {},
   "source": [
    "## Peer Review (Done After Live Review) - Pranav Santosh\n",
    "\n",
    "| Category                          | Points | Description                                                                                                                                                       | Peer Grade |\n",
    "| --------------------------------- | ------ | ----------------------------------------------------------------------------------------------------------------------------------------------------------------- | ---------- |\n",
    "| **Five tasks over 12 weeks**      | 5      | List five things completed, including issues addressed, burndown tracking, and presentation work.                                                                 |4.5            |\n",
    "| **Full Stack Project Demo**       | 2      | Demonstrate the project, highlight CPT requirements, and incorporate N@tM feedback.                                                                              | 1.9           |\n",
    "| **Project Feature Blog Write-up** | 1      | Use CPT/FRQ language to write a structured blog post on project features.                                                                                        | 0.9           |\n",
    "| **MCQ Completion**                | 1      | Successfully complete and reflect on multiple-choice questions.                                                                                                   | 1           |\n",
    "| **Retrospective Reflection**      | 1      | - Reflect on strengths and weaknesses<br> - Create next steps plans for improvement<br> - Engage with peer projects and document interests<br> - Think about future steps in CompSci, classes, college, internships, or career<br> - Help a new peer with final exam prep or conduct a live review with Ms. Pataki<br> - Send a detailed summary of review points 24 hours in advance, including a self-grade assessment | 0.9            |\n",
    "| **Total**                         | 10     | Maximum possible score.                                                                                                                                           | 9.2           |\n",
    "\n",
    "## Feedback:\n",
    "- Make sure you have the feedback that you got from your N@TM presentation. This should be implemented. \n",
    "- Go more in depth on your weaknesses and strengths.\n",
    "- make sure you have coded cells formated properly using the '```'.\n",
    "\n",
    "## Improvements\n",
    "- Added imporvements based on N@TM presentation such as fixing UI for update and changing AWS blog to Help.\n",
    "- Added more about my weaknesses and strengths in both my feature blog and Future reflection blog.\n",
    "- Incorperated code cells into project feature blog for a more clean and readable blog."
   ]
  }
 ],
 "metadata": {
  "language_info": {
   "name": "python"
  },
  "orig_nbformat": 4
 },
 "nbformat": 4,
 "nbformat_minor": 2
}
