{
 "cells": [
  {
   "cell_type": "raw",
   "metadata": {
    "vscode": {
     "languageId": "raw"
    }
   },
   "source": [
    "---\n",
    "layout: post\n",
    "title: Tri 2 Feature Reflection\n",
    "description: Reflection about my steps feature\n",
    "categories: [Collaboration]\n",
    "permalink: /FeatureReflection/\n",
    "type: collab\n",
    "comments: true\n",
    "---"
   ]
  },
  {
   "cell_type": "markdown",
   "metadata": {},
   "source": [
    "Comments\n",
    "Here you can comment about my website and I can use the feedback to further improve my website"
   ]
  },
  {
   "cell_type": "markdown",
   "metadata": {},
   "source": [
    "# **Step Tracker Analysis: Strengths, Weaknesses, and Next Steps**\n",
    "\n",
    "## **✅ Strengths**\n",
    "### **1. Full-Stack Implementation**\n",
    "- Integrates **frontend (JavaScript, HTML)**, **backend (Flask, Python)**, and **database (SQLAlchemy)**.\n",
    "- Uses **JWT authentication** to secure step entries.\n",
    "\n",
    "### **2. CRUD Functionality**\n",
    "- Users can **Create, Read, Update, and Delete (CRUD)** their step entries.\n",
    "- Provides **real-time updates** via Fetch API.\n",
    "\n",
    "### **3. JSON to DOM Integration**\n",
    "- Retrieves step data from the backend as **JSON**.\n",
    "- Dynamically updates the **DOM** to display step progress.\n",
    "\n",
    "### **4. Database Management & Restore**\n",
    "- **Stores step data** persistently using SQLAlchemy.\n",
    "- Includes a **restore function** to reset or backup step data.\n",
    "\n",
    "### **5. Motivational System**\n",
    "- Displays **encouraging messages** based on step count.\n",
    "- Helps keep users motivated to stay active.\n",
    "\n",
    "---\n",
    "\n",
    "## **⚠️ Weaknesses**\n",
    "### **1. Only One Step Entry Per User**\n",
    "- Currently, users can **only store one step entry** at a time.\n",
    "- No way to **log steps daily**—updating overwrites previous data.\n",
    "\n",
    "### **2. Lacks Weekly/Monthly Analysis**\n",
    "- No **historical tracking** to monitor **long-term trends**.\n",
    "- Cannot analyze a **week’s worth of steps** to ensure a user stays healthy.\n",
    "\n",
    "### **3. No Graphical Data Representation**\n",
    "- Only displays steps as **text**.\n",
    "- No **charts or graphs** to visualize progress.\n",
    "\n",
    "### **4. No Goal-Setting Feature**\n",
    "- Users cannot set a **daily or weekly step goal**.\n",
    "- No way to track if users meet their **fitness targets**.\n",
    "\n",
    "---\n",
    "\n",
    "## **🚀 Next Steps (Planned Improvements)**\n",
    "### **1. Implement Daily Step Logging**\n",
    "- Allow users to **log steps daily** instead of overwriting a single entry.\n",
    "- Modify the database schema to store **date-based step records**:\n",
    "  ```python\n",
    "  class Steps(db.Model):\n",
    "      id = db.Column(db.Integer, primary_key=True)\n",
    "      user = db.Column(db.String(255), nullable=False)\n",
    "      steps = db.Column(db.Integer, nullable=False)\n",
    "      date = db.Column(db.Date, nullable=False)  # New field for tracking daily logs\n"
   ]
  }
 ],
 "metadata": {
  "language_info": {
   "name": "python"
  },
  "orig_nbformat": 4
 },
 "nbformat": 4,
 "nbformat_minor": 2
}
