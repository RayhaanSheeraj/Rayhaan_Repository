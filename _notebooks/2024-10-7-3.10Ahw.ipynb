{
 "cells": [
  {
   "cell_type": "raw",
   "metadata": {
    "vscode": {
     "languageId": "raw"
    }
   },
   "source": [
    "---\n",
    "layout: post\n",
    "title: 3.10A HW\n",
    "description:  3.10 HW and Popcorn Hacks\n",
    "type: issues \n",
    "comments: true\n",
    "\n",
    "---"
   ]
  },
  {
   "cell_type": "code",
   "execution_count": null,
   "metadata": {},
   "outputs": [],
   "source": [
    "# Popcorn Hack 1\n",
    "\n",
    "a_list = []\n",
    "\n",
    "while True:\n",
    "    user_input = input(\"Enter an item to add to the list. Type done when you are finished: \")\n",
    "    if user_input.lower() == 'done':\n",
    "        break\n",
    "    a_list.append(user_input)\n",
    "\n",
    "print(\"Items in the list:\")\n",
    "for item in a_list:\n",
    "    print(item)"
   ]
  },
  {
   "cell_type": "code",
   "execution_count": null,
   "metadata": {
    "vscode": {
     "languageId": "javascript"
    }
   },
   "outputs": [],
   "source": [
    "// Javascript Shoping List\n",
    "\n",
    "let shoping_list = []\n",
    "\n",
    "while(true) {\n",
    "    let userInput = prompt(\"Enter the item you want to add to the list. To quit type 'q'\");\n",
    "    if(userInput === \"q\") {\n",
    "        break;\n",
    "    }\n",
    "    shoping_list.push(userInput);\n",
    "    console.log(\"Item added to the list\");\n",
    "}\n",
    "\n",
    "console.log(\"Shoping List: \");\n",
    "for(let i = 0; i < shoping_list.length; i++) {\n",
    "    console.log(shoping_list[i]);\n",
    "}"
   ]
  },
  {
   "cell_type": "code",
   "execution_count": null,
   "metadata": {},
   "outputs": [],
   "source": [
    "# Popcorn Hack 2\n",
    "\n",
    "a_list = []\n",
    "\n",
    "while True:\n",
    "    user_input = input(\"Enter an item to add to the list. Type done when you are finished: \")\n",
    "    if user_input.lower() == 'done':\n",
    "        break\n",
    "    a_list.append(user_input)\n",
    "\n",
    "if len(a_list) > 0:\n",
    "    print(\"The second item in the list is: \" + a_list[1])\n",
    "    del a_list[1]\n",
    "else:\n",
    "    print(\"The list does not have a second item.\")\n",
    "\n",
    "print(\"New list:\")\n",
    "for item in a_list:\n",
    "    print(item)\n",
    "\n"
   ]
  },
  {
   "cell_type": "code",
   "execution_count": null,
   "metadata": {
    "vscode": {
     "languageId": "javascript"
    }
   },
   "outputs": [],
   "source": [
    "// Popcorn Hack 3\n",
    "\n",
    "let favorite_foods = [\"pizza\", \"ice cream\", \"pasta\", \"tacos\", \"chocolate\"];\n",
    "favorite_foods.push(\"burgers\");\n",
    "favorite_foods.push(\"cookies\");\n",
    "\n",
    "let amount = favorite_foods.length;\n",
    "console.log(\"Amount of favorite foods: \" + amount);\n",
    "for (let i = 0; i < amount; i++) {\n",
    "    console.log(favorite_foods[i]);\n",
    "}\n",
    "\n"
   ]
  },
  {
   "cell_type": "code",
   "execution_count": null,
   "metadata": {},
   "outputs": [],
   "source": [
    "# Popcorn hack 3\n",
    "num_list = [1,2,3,4,5,6,7,8,9,10]\n",
    "even_sum = 0\n",
    "\n",
    "for num in num_list:\n",
    "    if num % 2 == 0:\n",
    "        even_sum += num\n",
    "print(\"The sum of all even numbers in the list is: \" + str(even_sum))"
   ]
  },
  {
   "cell_type": "code",
   "execution_count": null,
   "metadata": {
    "vscode": {
     "languageId": "javascript"
    }
   },
   "outputs": [],
   "source": [
    "// Popcorn Hack 4\n",
    "let fruits = [\"apple\", \"banana\", \"orange\"];\n",
    "\n",
    "if (fruits.includes(\"banana\")) {\n",
    "    console.log(\"banana is in the list\");\n",
    "}\n",
    "else {\n",
    "    console.log(\"no banana in the list\");\n",
    "}"
   ]
  },
  {
   "cell_type": "code",
   "execution_count": null,
   "metadata": {},
   "outputs": [],
   "source": [
    "# Homework Hack 1\n",
    "num_list = [10, 20, 30, 40, 50]\n",
    "\n",
    "print(num_list[1])"
   ]
  },
  {
   "cell_type": "code",
   "execution_count": null,
   "metadata": {
    "vscode": {
     "languageId": "javascript"
    }
   },
   "outputs": [],
   "source": [
    "// Homework Hack 2\n",
    "\n",
    "let num_list = [10, 20, 30, 40, 50];\n",
    "console.log(num_list[1]); // 20    "
   ]
  },
  {
   "cell_type": "code",
   "execution_count": null,
   "metadata": {},
   "outputs": [],
   "source": [
    "# Homework Hack 3\n",
    "todo_list = []\n",
    "\n",
    "def add_item(item):\n",
    "    todo_list.append(item)\n",
    "    print(f\"'{item}' has been added to the to-do list.\")\n",
    "\n",
    "def remove_item(item):\n",
    "    if item in todo_list:\n",
    "        todo_list.remove(item)\n",
    "        print(f\"'{item}' has been removed from the to-do list.\")\n",
    "    else:\n",
    "        print(f\"'{item}' is not in the to-do list.\")\n",
    "\n",
    "def view_list():\n",
    "    print(\"To-do list:\")\n",
    "    for item in todo_list:\n",
    "        print(item)\n",
    "\n",
    "while True:\n",
    "    action = input(\"What would you like to do? (add, remove, view, quit): \").lower()\n",
    "    if action == \"add\":\n",
    "        item = input(\"Enter the item to add: \")\n",
    "        add_item(item)\n",
    "    elif action == \"remove\":\n",
    "        item = input(\"Enter the item to remove: \")\n",
    "        remove_item(item)\n",
    "    elif action == \"view\":\n",
    "        view_list()\n",
    "    elif action == \"quit\":\n",
    "        break\n",
    "    else:\n",
    "        print(\"Invalid action. Please choose add, remove, view, or quit.\")"
   ]
  },
  {
   "cell_type": "code",
   "execution_count": null,
   "metadata": {
    "vscode": {
     "languageId": "javascript"
    }
   },
   "outputs": [],
   "source": [
    "// Homework Hack 4\n",
    "let workout_log = [];\n",
    "\n",
    "function add_workout(type, duration, calories) {\n",
    "    let workout = {\n",
    "        type: type,\n",
    "        duration: duration,\n",
    "        calories: calories\n",
    "    };\n",
    "    workout_log.push(workout);\n",
    "    console.log(\"Workout added to the log\");\n",
    "}\n",
    "\n",
    "function view_workouts() {\n",
    "    if (workout_log.length === 0) {\n",
    "        console.log(\"No workout in the log\");\n",
    "    } else {\n",
    "        for (let i = 0; i < workout_log.length; i++) {\n",
    "            console.log(\"Workout \" + (i + 1) + \": \" + workout_log[i].type + \" - \" + workout_log[i].duration + \" minutes - \" + workout_log[i].calories + \" calories\");\n",
    "        }\n",
    "    }\n",
    "}\n",
    "\n",
    "while (true) {\n",
    "    let action = prompt(\"What would you like to do? (add, view, quit): \").toLowerCase();\n",
    "    if (action === \"add\") {\n",
    "        let type = prompt(\"Enter the workout type: \");\n",
    "        let duration = prompt(\"Enter the workout duration in minutes: \");\n",
    "        let calories = prompt(\"Enter the calories burned: \");\n",
    "        add_workout(type, duration, calories);\n",
    "    } else if (action === \"view\") {\n",
    "        view_workouts();\n",
    "    } else if (action === \"quit\") {\n",
    "        break;\n",
    "    } else {\n",
    "        console.log(\"Invalid action. Please choose add, view, or quit.\");\n",
    "    }\n",
    "}"
   ]
  }
 ],
 "metadata": {
  "kernelspec": {
   "display_name": "Python 3",
   "language": "python",
   "name": "python3"
  },
  "language_info": {
   "codemirror_mode": {
    "name": "ipython",
    "version": 3
   },
   "file_extension": ".py",
   "mimetype": "text/x-python",
   "name": "python",
   "nbconvert_exporter": "python",
   "pygments_lexer": "ipython3",
   "version": "3.10.12"
  }
 },
 "nbformat": 4,
 "nbformat_minor": 2
}
