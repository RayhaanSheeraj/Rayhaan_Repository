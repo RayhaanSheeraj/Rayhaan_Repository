{
 "cells": [
  {
   "cell_type": "raw",
   "metadata": {
    "vscode": {
     "languageId": "raw"
    }
   },
   "source": [
    "---\n",
    "layout: post\n",
    "title: 2020 Practice Exam MCQ Test Corrections and Reflection\n",
    "description: Revisions to the 2020 Practice Exam MCQ Test\n",
    "categories: [MCQ]\n",
    "permalink: /2020-MCQ-Reflection/\n",
    "comments: true\n",
    "---"
   ]
  },
  {
   "cell_type": "markdown",
   "metadata": {},
   "source": [
    "## 2020 MC Score\n",
    "\n",
    "![wtv](https://i.postimg.cc/MKtfwfrs/image-2025-03-01-192101337.png)\n",
    "\n",
    "![wtv](https://i.postimg.cc/bJQdzX1w/image-2025-03-11-083905974.png)\n",
    "\n",
    "## Skills\n",
    "![wtv](https://i.postimg.cc/Rhdhv2G3/image-2025-03-01-192353969.png)\n",
    "- I mastered a majority of the skills in the 2020 MC Practice Test. \n",
    "### Skills I can Imporve on\n",
    "- However one skill I missed out on was skill 4.C: Identify and correct errors in algorithms and programs, including error discovery through testing. This skill fallls under the topic 1.4 Identifying and Correcting Errors\n",
    "    - I can improve on this skill by continuing to code and help others fixing bugs in code. \n",
    "### Skills that weren't present in the test: \n",
    "- Skill 3.A: Generalize data sources through variables. \n",
    "- Skill 4.A: Explain how a code segment or program functions. \n",
    "- Skill 6.A: Collaborate in the development of solutions. \n",
    "- Skill 6.B: Use safe and secure methods when using computing devices. \n",
    "- Skill 6.C: Acknowledge the intellectual property of others.\n",
    "    - I can improve these skills by practicing other MCs\n",
    "\n",
    "\n",
    "## What did I learn from this quiz?\n",
    "- 5.6: Safe Computing\n",
    "    - Learning how to protect personal and sensitive information from threats and vulnerabilities.\n",
    "- 3.17: Algorithmic Efficiency\n",
    "    - Studying how to measure and improve the efficiency of algorithms.\n",
    "- 4.2: Fault Tolerance\n",
    "    - Learning about techniques and strategies to build fault-tolerant systems, such as redundancy and error detection.\n",
    "\n",
    "\n",
    "\n",
    "## Questions I got wrong:\n",
    "\n",
    "### Q16 Error in wordList traversal\n",
    "![wtv](https://i.postimg.cc/j5sCBs4V/image-2025-03-01-194517854.png)\n",
    "\n",
    "- The option I chose was C. Placing the code between lines 6 and 7 only decreases \"index\" when \"the\" or \"a\" is found. Instead, \"index\" should decrease after checking every element.\n",
    "- Option D was the correct answer because The program goes through wordList from the end to the start, removing any elements that are \"the\" or \"a.\" Placing the statement between lines 7 and 8 decreases index after checking each element, making sure all elements are checked.\n",
    "\n",
    "## Comparison to the 2018 Practice MCQ\n",
    "![wtv](https://i.postimg.cc/KYbYgZVK/image-2025-03-01-194706803.png)\n",
    "\n",
    "![wtv](https://i.postimg.cc/pTXXqsPR/image-2025-03-01-194753025.png)\n",
    "\n",
    "### Overall I improved on:\n",
    "- Skill 1.D: Evaluate solution options. 77% --> 100%\n",
    "- Skill 2.A: Represent algorithmic processes without using a programming language. NA ---> 100%\n",
    "- Skill 2.B: Implement and apply an algorithm. 82% ---> 100%\n",
    "- Skill 3.C: Explain how abstraction manages complexity. 50% ---> 100%\n",
    "- Skill 5.E: Evaluate the use of computing based on legal and ethical factors. 75% --> 100%\n",
    "\n",
    "### Topics I have not encountered yet\n",
    "- Skill 4.A: Explain how a code segment or program functions.\n",
    "- Skill 6.A: Collaborate in the development of solutions.\n",
    "- Skill 6.B: Use safe and secure methods when using computing devices.\n",
    "- Skill 6.C: Acknowledge the intellectual property of others.\n",
    "    - I can practice other MCQs to encounter these topics\n",
    "\n",
    "## Skills and Strategies I can use for the AP Exam\n",
    "- If you don't know the answer to the question:\n",
    "    - Eliminate options that don't make sence\n",
    "    \n",
    "    ![wtv](https://i.postimg.cc/dQ73ZS3K/image-2025-03-01-200134901.png)\n",
    "\n",
    "    - Use reasonable logic to eliminate more options\n",
    "    ![wtv](https://i.postimg.cc/tCNjsh3j/image-2025-03-01-200256477.png)\n",
    "\n",
    "    - Use an educated guess between the remaining options\n",
    "## Reflection \n",
    "The 2020 MC Practice Test has helped me improve my understanding of computer science concepts. It showed me areas to work on, so I can practice and get better. Doing more practice tests and coding exercises will strengthen my skills and make me more proficient. \n"
   ]
  }
 ],
 "metadata": {
  "language_info": {
   "name": "python"
  },
  "orig_nbformat": 4
 },
 "nbformat": 4,
 "nbformat_minor": 2
}
