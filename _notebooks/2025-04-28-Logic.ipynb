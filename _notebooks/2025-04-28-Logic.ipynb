{
 "cells": [
  {
   "cell_type": "raw",
   "metadata": {
    "vscode": {
     "languageId": "raw"
    }
   },
   "source": [
    "---\n",
    "layout: post\n",
    "title: Logic Gates\n",
    "description: \n",
    "categories: [Tri 3 Team Teach Hacks]\n",
    "permalink: /Logic/\n",
    "comments: true\n",
    "---"
   ]
  },
  {
   "cell_type": "markdown",
   "metadata": {},
   "source": [
    "## Popcorn Hacks\n",
    "\n",
    "### Popcorn Hack\n",
    "\n",
    "Logic gates are used in real life for stuff like:\n",
    "\n",
    "- Traffic Lights  \n",
    "  Logic gates control when lights should switch to prevent crashes.\n",
    "\n",
    "- Alarm Systems  \n",
    "  OR gates can set off alarms if any sensor (like a door or motion sensor) goes off.\n",
    "\n",
    "This is helpful because logic gates make systems smarter, safer, and automatic. They let machines make quick decisions based on different inputs.\n",
    "\n",
    "---\n",
    "\n",
    "### Popcorn Hack 2\n",
    "\n",
    "Answer: A. (X AND Y) OR Z\n",
    "\n",
    "Explanation:  \n",
    "The output is 1 if X and Y are both 1 (X AND Y), or if Z is 1. So the logic is: (X AND Y) OR Z\n",
    "\n",
    "---\n",
    "\n",
    "## Homework Hack\n"
   ]
  },
  {
   "cell_type": "code",
   "execution_count": 1,
   "metadata": {},
   "outputs": [
    {
     "name": "stdout",
     "output_type": "stream",
     "text": [
      "1\n",
      "0\n",
      "0\n"
     ]
    }
   ],
   "source": [
    "def secure_entry_system(keycard, pin, voice_auth):\n",
    "    def AND(a, b):\n",
    "        return a & b  # AND logic\n",
    "\n",
    "    step1 = AND(keycard, pin)\n",
    "    return AND(step1, voice_auth)\n",
    "\n",
    "# Test cases\n",
    "print(secure_entry_system(1, 1, 1))  # Expected Output: 1 (Access Granted)\n",
    "print(secure_entry_system(1, 1, 0))  # Expected Output: 0 (Access Denied)\n",
    "print(secure_entry_system(0, 1, 1))  # Expected Output: 0 (Access Denied)\n"
   ]
  }
 ],
 "metadata": {
  "kernelspec": {
   "display_name": "Python 3",
   "language": "python",
   "name": "python3"
  },
  "language_info": {
   "codemirror_mode": {
    "name": "ipython",
    "version": 3
   },
   "file_extension": ".py",
   "mimetype": "text/x-python",
   "name": "python",
   "nbconvert_exporter": "python",
   "pygments_lexer": "ipython3",
   "version": "3.10.12"
  },
  "orig_nbformat": 4
 },
 "nbformat": 4,
 "nbformat_minor": 2
}
