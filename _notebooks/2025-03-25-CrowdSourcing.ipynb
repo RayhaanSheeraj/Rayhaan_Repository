{
 "cells": [
  {
   "cell_type": "raw",
   "metadata": {
    "vscode": {
     "languageId": "raw"
    }
   },
   "source": [
    "---\n",
    "layout: post\n",
    "title: Crowdsourcing in Computing\n",
    "description: Popcorn and Homework Hacks\n",
    "categories: [Collaboration]\n",
    "permalink: /Crowdsaourcing/\n",
    "type: collab\n",
    "comments: true\n",
    "---"
   ]
  },
  {
   "cell_type": "markdown",
   "metadata": {},
   "source": [
    "Comments\n",
    "Here you can comment about my website and I can use the feedback to further improve my website"
   ]
  },
  {
   "cell_type": "markdown",
   "metadata": {},
   "source": [
    "## Mango Introduction\n",
    "\n",
    "10/10 introduction on an example of crowdsourcing\n",
    "\n",
    "## MC\n",
    "The answer is C, Collecting contributions from a large group of people. \n",
    "\n",
    "**Explanation:**  \n",
    "Crowdsourcing involves getting input, ideas, or content from a large number of people, rather than relying on a single person or a small group.\n",
    " \n",
    "## Popcorn Hack 3\n",
    "\n",
    "**Example of Crowdsourcing: YouTube**\n",
    "\n",
    "**Explanation:**  \n",
    "YouTube is a site where people from all over the world upload videos. These videos can be about anything, like how-to guides, entertainment, news, and personal stories. Due to many people adding videos, YouTube has a huge variety of content for everyone to watch. Additonally there are polls where people can to gather opinions and from their audience.\n",
    "\n",
    "## Homework Hack \n",
    "\n",
    "**Example of Crowdsourcing: Spotify Pop Playlist**\n",
    "\n",
    "**Explanation:**  \n",
    "Spotify pop playlists are made based on what many users are listening to and liking. This means the playlist is created by looking at the music preferences of a lot of different people.\n",
    "\n",
    "**Pros:**  \n",
    "- Offers a variety of songs from many different artists allowing for many unique opinion\n",
    "\n",
    "**Cons:**  \n",
    "- Since its a big crowd there could be some troll songs that are not actually pop.\n",
    "\n",
    "\n",
    "<iframe style=\"border-radius:12px\" src=\"https://open.spotify.com/embed/track/45J4avUb9Ni0bnETYaYFVJ?utm_source=generator\" width=\"100%\" height=\"352\" frameBorder=\"0\" allowfullscreen=\"\" allow=\"autoplay; clipboard-write; encrypted-media; fullscreen; picture-in-picture\" loading=\"lazy\"></iframe>\n",
    "\n",
    "<iframe style=\"border-radius:12px\" src=\"https://open.spotify.com/embed/track/3AWDeHLc88XogCaCnZQLVI?utm_source=generator\" width=\"100%\" height=\"352\" frameBorder=\"0\" allowfullscreen=\"\" allow=\"autoplay; clipboard-write; encrypted-media; fullscreen; picture-in-picture\" loading=\"lazy\"></iframe>\n",
    "\n",
    "\n",
    "\n"
   ]
  }
 ],
 "metadata": {
  "language_info": {
   "name": "python"
  },
  "orig_nbformat": 4
 },
 "nbformat": 4,
 "nbformat_minor": 2
}
