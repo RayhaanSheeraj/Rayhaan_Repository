{
 "cells": [
  {
   "cell_type": "raw",
   "metadata": {
    "vscode": {
     "languageId": "raw"
    }
   },
   "source": [
    "---\n",
    "layout: post\n",
    "title: Cybersecurity Expert Panel\n",
    "description: \n",
    "categories: [Collaboration]\n",
    "permalink: /CybersecurityPanel/\n",
    "type: collab\n",
    "comments: true\n",
    "---"
   ]
  },
  {
   "cell_type": "markdown",
   "metadata": {},
   "source": [
    "## Panel Pictures\n",
    "\n",
    "![wtv](https://i.postimg.cc/15RT6phP/image-2025-04-09-210452070.png)\n",
    "![wtv](https://i.postimg.cc/yNRrBj9h/image.png)\n",
    "![wtv](https://i.postimg.cc/pXdGyRzL/image.png)\n",
    "\n",
    "\n",
    "## What I Learned\n",
    "\n",
    "- Adaptability is essential: \n",
    "    - David Tomasz from the FBI shared that sometimes you're thrown into  situations you don’t expect, and you have to learn quickly and adapt, especially in tech roles like cybersecurity.\n",
    "\n",
    "- Integrity and Honesty matters: \n",
    "    - Tricia Mercer explained how someone within an organization was stealing data and selling it, which highlighted how important honesty and trust are in this field.\n",
    "\n",
    "- Security starts with basics:\n",
    "    - Many people don't know basic security practices, which creates major vulnerabilities. There needs to be more education around this.\n",
    "\n",
    "- Zero-day vulnerabilities are dangerous:\n",
    "    - These are security flaws with no known fix. \n",
    "    - For example, if a hacker inserts a fake Microsoft update into the cloud, many systems could be compromised.\n",
    "\n",
    "\n",
    "## Key Takeaways\n",
    "\n",
    "- Be curious and cautious: \n",
    "    - Always ask questions and stay alert when working with data and technology.\n",
    "\n",
    "- Cybersecurity is a growing field:\n",
    "    -  Victor Nzeata discussed how security tasks like identifying and deleting old, lingering data are essential. Jobs in areas like healthcare IT and AI security are on the rise.\n",
    "\n",
    "- Soft skills are important:\n",
    "    - Being kind, reliable, and a strong communicator is just as valuable as being technically skilled.\n",
    "\n",
    "- Ethical hacking is a valuable tool:\n",
    "    - Building and testing your own systems or networks can help you learn real-world skills.\n",
    "\n",
    "- Make technical ideas easy to understand:\n",
    "    - Tricia Mercer pointed out that when working with businesses, you need to explain complex ideas in simple language they can act on.\n",
    "\n",
    "- Group work teaches flexibility:\n",
    "    -  David Tomasz also noted that in team projects, there's always someone who doesn't pull their weight. Learning how to work around that is part of being successful.\n",
    "\n",
    "## What I Plan To Do Next\n",
    "\n",
    "- Learn IT and cybersecurity basics to build a strong foundation.\n",
    "\n",
    "- Participate in hackathons and create my own networks to gain hands-on experience.\n",
    "\n",
    "- Improve my teamwork and communication skills by continuing to work with my group in CSP. \n",
    "\n",
    "- Stay informed about AI and cybersecurity trends to be ready for the future job market.\n",
    "\n",
    "- Look into certifications or internships in cybersecurity.\n",
    "\n",
    "- Practice explaining complex ideas clearly to non-technical audiences."
   ]
  }
 ],
 "metadata": {
  "language_info": {
   "name": "python"
  },
  "orig_nbformat": 4
 },
 "nbformat": 4,
 "nbformat_minor": 2
}
