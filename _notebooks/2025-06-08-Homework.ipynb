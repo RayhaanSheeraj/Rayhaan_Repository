{
 "cells": [
  {
   "cell_type": "raw",
   "metadata": {
    "vscode": {
     "languageId": "raw"
    }
   },
   "source": [
    "---\n",
    "layout: post\n",
    "title: Homework Throughout the Year\n",
    "description: \n",
    "categories: [Reflection]\n",
    "permalink: /hwsuccess/\n",
    "comments: true\n",
    "---"
   ]
  },
  {
   "cell_type": "markdown",
   "metadata": {},
   "source": [
    "| #   | Topic                                                                 | Link                                                                                         |\n",
    "|-----|------------------------------------------------------------------------|----------------------------------------------------------------------------------------------|\n",
    "| 1   | 3.1 Homework                                                           | [View](https://rayhaansheeraj.github.io/Rayhaan_Repository/3.1HW/)                           |\n",
    "| 2   | 3.2 Homework                                                           | [View](https://rayhaansheeraj.github.io/Rayhaan_Repository/3.2HW/)                           |\n",
    "| 3   | 3.4 Homework                                                           | [View](https://rayhaansheeraj.github.io/Rayhaan_Repository/3.4HW/)                           |\n",
    "| 4   | 3.6 Homework                                                           | [View](https://rayhaansheeraj.github.io/Rayhaan_Repository/3.6HW/)                           |\n",
    "| 5   | 3.7 Homework                                                           | [View](https://rayhaansheeraj.github.io/Rayhaan_Repository/3.7HW/)                           |\n",
    "| 6   | 3.8 Homework                                                           | [View](https://rayhaansheeraj.github.io/Rayhaan_Repository/3.8HW/)                           |\n",
    "| 7   | 3.10A Homework                                                         | [View](https://rayhaansheeraj.github.io/Rayhaan_Repository/3.10AHW/)                         |\n",
    "| 8   | 3.10B Homework                                                         | [View](https://rayhaansheeraj.github.io/Rayhaan_Repository/3.10BHW/)                         |\n",
    "| 9   | Base 64                                                                | [View](https://rayhaansheeraj.github.io/Rayhaan_Repository/Base64/)                          |\n",
    "| 10  | Binary Base                                                            | [View](https://rayhaansheeraj.github.io/Rayhaan_Repository/BinaryBase/)                      |\n",
    "| 11  | Logic Gates                                                            | [View](https://rayhaansheeraj.github.io/Rayhaan_Repository/Logic/)                           |\n",
    "| 12  | Undecidable and Decidable Problems in CS & Graphs/Heuristics           | [View](https://rayhaansheeraj.github.io/Rayhaan_Repository/Undecidable&DecidableProblems/)  |\n",
    "| 13  | Big O and Algorithm Efficiency                                         | [View](https://rayhaansheeraj.github.io/Rayhaan_Repository/BigO/)                            |\n",
    "| 14  | Random Algorithms and Simulation Games Team Teach                      | [View](https://rayhaansheeraj.github.io/Rayhaan_Repository/RandomAlgo&SimuGames/)            |\n",
    "| 15  | Lists and Filtering Algorithms                                         | [View](https://rayhaansheeraj.github.io/Rayhaan_Repository/ListsFilteringAlgorithms/)        |\n",
    "| 16  | Safe Computing                                                         | [View](https://rayhaansheeraj.github.io/Rayhaan_Repository/SafeComputing/)                   |\n",
    "| 17  | Legal and Ethical Concerns                                             | [View](https://rayhaansheeraj.github.io/Rayhaan_Repository/Legal&EthicalConcerns/)           |\n",
    "| 18  | Computing Bias                                                         | [View](https://rayhaansheeraj.github.io/Rayhaan_Repository/ComputingBias/)                   |\n",
    "| 19  | Crowdsourcing in Computing                                             | [View](https://rayhaansheeraj.github.io/Rayhaan_Repository/Crowdsourcing/)                   |\n",
    "| 20  | Digital Divide Hacks                                                   | [View](https://rayhaansheeraj.github.io/Rayhaan_Repository/DigitialDivide/)                  |\n",
    "| 21  | Beneficial and Harmful Effects of Computing                            | [View](https://rayhaansheeraj.github.io/Rayhaan_Repository/BenefificalandHarmfulEffectsofComputing/) |\n",
    "\n",
    "\n",
    "## Reflection\n",
    "Teaching the team lessons helped me understand the topics better since I had to explain them clearly and break them down for others. The popcorn hacks and homework hacks were actually helpful because they gave us a chance to test ideas and learn from each other in real time. Overall, it was a good mix of learning and teaching that made the class more interactive."
   ]
  }
 ],
 "metadata": {
  "kernelspec": {
   "display_name": "Python 3",
   "language": "python",
   "name": "python3"
  },
  "language_info": {
   "codemirror_mode": {
    "name": "ipython",
    "version": 3
   },
   "file_extension": ".py",
   "mimetype": "text/x-python",
   "name": "python",
   "nbconvert_exporter": "python",
   "pygments_lexer": "ipython3",
   "version": "3.10.12"
  },
  "orig_nbformat": 4
 },
 "nbformat": 4,
 "nbformat_minor": 2
}
