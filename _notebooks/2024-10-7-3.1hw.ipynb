{
 "cells": [
  {
   "cell_type": "raw",
   "metadata": {
    "vscode": {
     "languageId": "raw"
    }
   },
   "source": [
    "---\n",
    "layout: post\n",
    "title: 3.1 HW\n",
    "description:  3.1 HW and Popcorn Hacks\n",
    "type: issues \n",
    "comments: true\n",
    "permalink: /3.1HW/\n",
    "---"
   ]
  },
  {
   "cell_type": "code",
   "execution_count": 39,
   "metadata": {},
   "outputs": [
    {
     "name": "stdout",
     "output_type": "stream",
     "text": [
      "Members of Popcorn Hack 1 are:  Anvay Vahia Rayhaan Sheeraj Kiruthic Selvakumar Pranav Santhosh Yuva Bala\n"
     ]
    }
   ],
   "source": [
    "#Popcorn Hack 1\n",
    "MemberOne = \"Anvay Vahia\"\n",
    "MemberTwo = \"Rayhaan Sheeraj\"\n",
    "MemberThree = \"Kiruthic Selvakumar\"\n",
    "MemberFour = \"Pranav Santhosh\"\n",
    "MemberFive = \"Yuva Bala\"\n",
    "\n",
    "print(\"Members of Popcorn Hack 1 are: \", MemberOne, MemberTwo, MemberThree, MemberFour, MemberFive)"
   ]
  },
  {
   "cell_type": "code",
   "execution_count": 41,
   "metadata": {},
   "outputs": [
    {
     "name": "stdout",
     "output_type": "stream",
     "text": [
      "Here are some fruits with descriptions, {'apple': {'color': 'red'}, 'banana': {'color': 'yellow'}, 'cherry': {'color': 'red'}, 'orange': {'color': 'orange', 'taste': 'citrus'}}\n"
     ]
    }
   ],
   "source": [
    "#Popcorn Hack 2\n",
    "fruits = {\n",
    "    \"apple\": {\n",
    "        \"color\": \"red\",\n",
    "        \n",
    "    },\n",
    "    \"banana\": {\n",
    "        \"color\": \"yellow\",\n",
    "\n",
    "    },\n",
    "    \"cherry\": {\n",
    "        \"color\": \"red\",\n",
    "    },\n",
    "    \"orange\": {\n",
    "        \"color\": \"orange\",\n",
    "        \"taste\": \"citrus\",\n",
    "\n",
    "    }\n",
    "}\n",
    "print(\"Here are some fruits with descriptions,\", fruits)\n"
   ]
  },
  {
   "cell_type": "code",
   "execution_count": null,
   "metadata": {
    "vscode": {
     "languageId": "javascript"
    }
   },
   "outputs": [],
   "source": [
    "// Popcorn Hack 3\n",
    "const fruit = {\n",
    "    name: \"Banana\"  \n",
    "    color = \"Green\"\n",
    "}\n",
    "\n",
    "console.log(\"Unripe Bananan is\", fruit.color); \n",
    "fruit.color = \"Yellow\";\n",
    "console.log(\"Ripe Banana is\", fruit.color);\n"
   ]
  },
  {
   "cell_type": "code",
   "execution_count": null,
   "metadata": {
    "vscode": {
     "languageId": "javascript"
    }
   },
   "outputs": [],
   "source": [
    "// Popcorn Hack #4\n",
    "const Array = [\"Hello, World!\", 3.14];"
   ]
  },
  {
   "cell_type": "code",
   "execution_count": null,
   "metadata": {
    "vscode": {
     "languageId": "javascript"
    }
   },
   "outputs": [],
   "source": [
    "// Homework Hack #1\n",
    "const fruitName = \"Apple\";\n",
    "\n",
    "// Define a variable for the fruit color\n",
    "let fruitColor = \"Red\";\n",
    "\n",
    "// Define a variable for the fruit taste\n",
    "let fruitTaste = \"Sweet\";\n",
    "\n",
    "// Values of the variables to the console\n",
    "console.log(\"Fruit Name:\", fruitName);\n",
    "console.log(\"Fruit Color:\", fruitColor);\n",
    "console.log(\"Fruit Taste:\", fruitTaste);\n",
    "\n",
    "// Function to create a sentence from the fruit descriptions\n",
    "function describeFruit(name, color, taste) {\n",
    "    return `The ${name} is ${color} and tastes ${taste}.`;\n",
    "}\n",
    "\n",
    "\n",
    "console.log(describeFruit(fruitName, fruitColor, fruitTaste));\n"
   ]
  },
  {
   "cell_type": "code",
   "execution_count": 42,
   "metadata": {},
   "outputs": [
    {
     "name": "stdout",
     "output_type": "stream",
     "text": [
      "Scores: 95 90 98 92 88 100 94\n",
      "Total Score: 657\n",
      "Average Grade: 93.85714285714286\n",
      "Student Info: ['Rayhaan Sheeraj', 15, 93.85714285714286]\n"
     ]
    }
   ],
   "source": [
    "# Homework Hack 2\n",
    "\n",
    "# Define the scores as variables\n",
    "score1 = 95\n",
    "score2 = 90\n",
    "score3 = 98\n",
    "score4 = 92\n",
    "score5 = 88\n",
    "score6 = 100\n",
    "score7 = 94\n",
    "\n",
    "# Calculate the total score \n",
    "total_score = score1 + score2 + score3 + score4 + score5 + score6 + score7\n",
    "\n",
    "# Calculate the number of scores\n",
    "number_of_scores = 7\n",
    "\n",
    "# Calculate the average grade\n",
    "average_grade = total_score / number_of_scores\n",
    "\n",
    "# Define student name and age\n",
    "student_name = \"Rayhaan Sheeraj\"\n",
    "student_age = 15\n",
    "\n",
    "# Create a list containing student information\n",
    "student_info = [student_name, student_age, average_grade]\n",
    "\n",
    "# Print the scores\n",
    "print(\"Scores:\", score1, score2, score3, score4, score5, score6, score7)\n",
    "\n",
    "# Print the total score\n",
    "print(\"Total Score:\", total_score)\n",
    "\n",
    "# Print the average grade\n",
    "print(\"Average Grade:\", average_grade)\n",
    "\n",
    "# Print the student information list\n",
    "print(\"Student Info:\", student_info)\n"
   ]
  }
 ],
 "metadata": {
  "kernelspec": {
   "display_name": "Python 3",
   "language": "python",
   "name": "python3"
  },
  "language_info": {
   "codemirror_mode": {
    "name": "ipython",
    "version": 3
   },
   "file_extension": ".py",
   "mimetype": "text/x-python",
   "name": "python",
   "nbconvert_exporter": "python",
   "pygments_lexer": "ipython3",
   "version": "3.10.12"
  }
 },
 "nbformat": 4,
 "nbformat_minor": 2
}
