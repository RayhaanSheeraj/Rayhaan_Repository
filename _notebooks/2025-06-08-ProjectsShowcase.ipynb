{
 "cells": [
  {
   "cell_type": "raw",
   "metadata": {
    "vscode": {
     "languageId": "raw"
    }
   },
   "source": [
    "---\n",
    "layout: post\n",
    "title: Project Showcase Reflection\n",
    "description: Reflecting on my project presentation and experiences at Night at the Museum (N@TM) \n",
    "categories: [Collaboration, Reflection]\n",
    "permalink: /N@TM2025JuneReflection/\n",
    "type: collab\n",
    "comments: true\n",
    "---"
   ]
  },
  {
   "cell_type": "markdown",
   "metadata": {
    "vscode": {
     "languageId": "raw"
    }
   },
   "source": [
    "\n",
    "### For  N@TM events, I always have the opportunity to showcase my projects and see what others have been working on. \n",
    "---\n",
    "\n",
    "## Highlights from My Project Showcase\n",
    "\n",
    "- I was proud to present the analytics page I built and explain how it worked to visitors.\n",
    "- It was a great experience to see people interested in my work and to answer their questions.\n",
    "- Demonstrating my project in person made me appreciate the effort I put into it and helped me see its impact on others.\n",
    "- Getting feedback and seeing reactions in real time was motivating and made the whole process feel worthwhile.\n",
    "\n",
    "---\n",
    "\n",
    "## Observing Other Projects\n",
    "\n",
    "- I really enjoyed walking around and checking out what other students created.\n",
    "- Projects like Pyre, which provides alerts and support during emergencies, stood out to me as both creative and practical.\n",
    "- Reviewing projects in Trimester 2, such as Pawnsy and Travel Planner, gave me ideas for improving my own work and showed me different approaches to design and functionality.\n",
    "- Seeing the strengths and areas for improvement in other projects helped me reflect on my own development process.\n",
    "\n",
    "---\n",
    "\n",
    "## The Value of Project Reflections\n",
    "\n",
    "- These events remind me how much I can grow by sharing my work and being open to feedback.\n",
    "- Project reflections help me set new goals and inspire me to keep building and improving.\n",
    "\n",
    "---\n",
    "\n",
    "## Final Thoughts\n",
    "\n",
    "Night at the Museum is always a highlight of the trimester.  \n",
    "- Showcasing my projects and engaging with others about their work is both fun and rewarding.\n",
    "- I look forward to more opportunities to present, reflect, and learn from the peers that are learning just like me.\n",
    "\n",
    "---\n",
    "\n",
    "## Pictures\n",
    "\n",
    "![Image](https://github.com/user-attachments/assets/cd98e7df-359c-4eaf-b3a3-8885987fe69c)\n",
    "\n",
    "![Image](https://github.com/user-attachments/assets/345b1d29-07e7-46d1-8819-e2414c64ba26)\n",
    "\n",
    "![Image](https://github.com/user-attachments/assets/f785ed91-27d5-4a33-849a-493bcc06705c)\n",
    "\n",
    "![Image](https://github.com/user-attachments/assets/19e0304b-d077-4a0f-a53a-b2e2cea767ab)"
   ]
  }
 ],
 "metadata": {
  "kernelspec": {
   "display_name": "Python 3",
   "language": "python",
   "name": "python3"
  },
  "language_info": {
   "codemirror_mode": {
    "name": "ipython",
    "version": 3
   },
   "file_extension": ".py",
   "mimetype": "text/x-python",
   "name": "python",
   "nbconvert_exporter": "python",
   "pygments_lexer": "ipython3",
   "version": "3.10.12"
  },
  "orig_nbformat": 4
 },
 "nbformat": 4,
 "nbformat_minor": 2
}
