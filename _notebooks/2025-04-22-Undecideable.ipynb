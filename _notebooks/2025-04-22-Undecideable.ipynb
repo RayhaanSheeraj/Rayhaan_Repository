{
 "cells": [
  {
   "cell_type": "raw",
   "metadata": {
    "vscode": {
     "languageId": "raw"
    }
   },
   "source": [
    "---\n",
    "layout: post\n",
    "title: Undecidable and Decidable Problems in Computer Science & Graphs/Huerestics\n",
    "description: \n",
    "categories: [Tri 3 Team Teach Hacks]\n",
    "permalink: /Undecidable&DecidableProblems/\n",
    "comments: true\n",
    "---"
   ]
  },
  {
   "cell_type": "markdown",
   "metadata": {},
   "source": [
    "## Undecidable and Decidable Problems in Computer Science Popcorn hacks\n",
    "\n",
    "### Popcorn Hack 1  \n",
    "\n",
    "**False**  \n",
    "Undecidable problems can’t be fully solved by any algorithm.\n",
    "\n",
    "\n",
    "\n",
    "### Popcorn Hack 2  \n",
    "\n",
    "**True**  \n",
    "Programmers can still use code that works most of the time, even if it doesn’t solve every case.\n",
    "\n",
    "\n",
    "### Popcorn Hack 3  \n",
    "\n",
    "**Answer: D. Bubble sorting**  \n",
    "Bubble sorting is a simple algorithm that always works and ends.\n",
    "\n",
    "\n",
    "## Undecidable and Decidable Problems in Computer Science Homework hack\n",
    "\n",
    "Modern operating systems and web browsers have ways to stop programs or scripts that run for too long or never stop. On computers, tools like Task Manager (Windows) or Activity Monitor (Mac) help users see which programs are using too much memory or CPU, and they can force them to stop. Sometimes the system will do this on its own if the program is using too many resources. In web browsers, if a script keeps running too long, the browser might show a message like \"Page Unresponsive\" and let the user choose to stop or wait. Some browsers run scripts in the background so the whole page doesn’t crash and freeze. If a page crashes, some websites can reload themselves. Developers also use error messages and logs to help fix these problems. These tools help keep your computer and browser running smoothly, even when something goes wrong.\n",
    "\n",
    "## Graphs & Heuristics Popcorn hacks\n",
    "\n",
    "### Popcorn Hack #1  \n",
    "\n",
    "**False**  \n",
    "In a directed graph, edges have direction, so an edge from A to B does not mean there is one from B to A.\n",
    "\n",
    "### Popcorn Hack #2  \n",
    "\n",
    "**True**  \n",
    "Heuristics are usually faster than exact algorithms, but they might not always give the best solution.\n",
    "\n",
    "### Popcorn Hack #3  \n",
    "\n",
    "**True**  \n",
    "Heuristic algorithms like Nearest Neighbor are faster but can give worse results as the number of cities grows, and they don’t guarantee the best answer.\n",
    "\n",
    "## Graphs & Heuristics Homework hack\n",
    "\n",
    "Social Network Analysis uses graphs to study how people or things are connected. In social media, users are represented as nodes, and their relationships, like following or messaging each other, are shown as edges. By looking at these connections, we can understand how information spreads or how communities form. A real-world example is Facebook, where users are nodes, and friendships or interactions are edges. Graph theory helps Facebook recommend friends, suggest groups, or even detect fake accounts by analyzing patterns in how users are connected.\n",
    "\n",
    "\n",
    "\n",
    "\n",
    "\n"
   ]
  }
 ],
 "metadata": {
  "kernelspec": {
   "display_name": "Python 3",
   "language": "python",
   "name": "python3"
  },
  "language_info": {
   "codemirror_mode": {
    "name": "ipython",
    "version": 3
   },
   "file_extension": ".py",
   "mimetype": "text/x-python",
   "name": "python",
   "nbconvert_exporter": "python",
   "pygments_lexer": "ipython3",
   "version": "3.10.12"
  },
  "orig_nbformat": 4
 },
 "nbformat": 4,
 "nbformat_minor": 2
}
