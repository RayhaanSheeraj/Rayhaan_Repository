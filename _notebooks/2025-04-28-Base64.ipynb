{
 "cells": [
  {
   "cell_type": "raw",
   "metadata": {
    "vscode": {
     "languageId": "raw"
    }
   },
   "source": [
    "---\n",
    "layout: post\n",
    "title: Base 64\n",
    "description: \n",
    "categories: [Tri 3 Team Teach Hacks]\n",
    "permalink: /Base64/\n",
    "comments: true\n",
    "---"
   ]
  },
  {
   "cell_type": "markdown",
   "metadata": {},
   "source": [
    "### Popcorn Hacks\n",
    "\n",
    "### Popcorn Hack 1\n",
    "\n",
    "Which format would you use for an image with a transparent background that needs to stay sharp on any screen?\n",
    "\n",
    "**Answer:** PNG  \n",
    "PNG supports transparency and stays sharp because it’s lossless and uses high-quality compression.\n",
    "\n",
    "---\n",
    "\n",
    "###  Practice MCQ\n",
    "\n",
    "Which file format is best for an image with a transparent background?\n",
    "\n",
    "**Correct Answer: B) PNG**\n",
    "\n",
    "\n",
    "\n",
    "---\n",
    "\n",
    "###  Popcorn Hack 2\n",
    "\n",
    "Base64 increases the size of the original data by about 33%. This can make websites slower if used too much.\n",
    "\n",
    "---\n",
    "\n",
    "###  Practice MCQ\n",
    "\n",
    "Which of the following is true about Base64 encoding?\n",
    "\n",
    "**Correct Answer: B) It increases the size of the data**\n",
    "\n",
    "- A) False – Base64 is not encryption.\n",
    "- B) True – Base64 makes the data larger.\n",
    "- C) False – It actually expands the data.\n",
    "- D) False – It’s still readable, just encoded.\n",
    "\n",
    "---\n",
    "##  Homework Hack\n",
    "\n",
    "### What is a hex color code?\n",
    "\n",
    "A hex color code is a way to show color using 6 digits after a `#`. Each two digits stand for red, green, and blue.  \n",
    "Example colors:\n",
    "- `#FFFFFF` = white  \n",
    "- `#000000` = black  \n",
    "- `#FF5733` = reddish-orange\n",
    "\n",
    "These are used in websites and apps to pick colors for text, backgrounds, buttons, etc.\n",
    "\n",
    "---\n",
    "\n",
    "### What is Base64 and how is it used with images?\n",
    "\n",
    "Base64 turns files (like images) into long strings of letters and numbers.  \n",
    "Instead of linking to an image file, you can just paste the Base64 string into your code.  \n",
    "It’s useful when you want to keep everything in one file or don’t want to rely on outside files.\n",
    "\n",
    "---\n",
    "\n",
    "### Why use Base64 instead of a regular image file?\n",
    "\n",
    "You might use Base64 when:\n",
    "- You want fewer files to deal with\n",
    "- You’re sending the image in something like an email or a notebook\n",
    "- You want the image to always show up, even if the original file is missing\n",
    "\n",
    "The downside is Base64 makes the file size bigger, so it’s not great for large images or lots of them.\n",
    "\n",
    "---\n",
    "\n",
    "### Code examample\n",
    "\n"
   ]
  },
  {
   "cell_type": "code",
   "execution_count": null,
   "metadata": {},
   "outputs": [],
   "source": [
    "import base64\n",
    "from IPython.display import HTML\n",
    "\n",
    "\n",
    "with open(\"images/cookie.png\", \"rb\") as image_file:\n",
    "    encoded_string = base64.b64encode(image_file.read()).decode('utf-8')\n",
    "\n",
    "\n",
    "html_code = f'<img src=\"data:image/png;base64,{encoded_string}\" />'\n",
    "\n",
    "HTML(html_code)\n"
   ]
  },
  {
   "cell_type": "markdown",
   "metadata": {
    "vscode": {
     "languageId": "raw"
    }
   },
   "source": [
    "![wtv](https://i.postimg.cc/rFhKF8vn/cookie.png)\n",
    "\n",
    "### Explanation: \n",
    "\n",
    " - The image file is opened and read.\n",
    "\n",
    "- It's turned into Base64 (a long string version of the image).\n",
    "\n",
    "- That string is put into an HTML <img> tag.\n",
    "\n",
    "- The notebook shows the image right in the output."
   ]
  }
 ],
 "metadata": {
  "kernelspec": {
   "display_name": "Python 3",
   "language": "python",
   "name": "python3"
  },
  "language_info": {
   "codemirror_mode": {
    "name": "ipython",
    "version": 3
   },
   "file_extension": ".py",
   "mimetype": "text/x-python",
   "name": "python",
   "nbconvert_exporter": "python",
   "pygments_lexer": "ipython3",
   "version": "3.10.12"
  },
  "orig_nbformat": 4
 },
 "nbformat": 4,
 "nbformat_minor": 2
}
