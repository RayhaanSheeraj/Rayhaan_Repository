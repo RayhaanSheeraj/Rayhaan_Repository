{
 "cells": [
  {
   "cell_type": "raw",
   "metadata": {
    "vscode": {
     "languageId": "raw"
    }
   },
   "source": [
    "---\n",
    "layout: post\n",
    "title: 3.8 HW\n",
    "description:  3.8 HW and Popcorn Hacks\n",
    "type: issues \n",
    "comments: true\n",
    "permalink: /3.8HW/\n",
    "---"
   ]
  },
  {
   "cell_type": "code",
   "execution_count": 9,
   "metadata": {},
   "outputs": [
    {
     "name": "stdout",
     "output_type": "stream",
     "text": [
      "hello\n",
      "hello\n",
      "hello\n",
      "hello\n",
      "hello\n"
     ]
    }
   ],
   "source": [
    "#creating a count variable\n",
    "count = 0\n",
    "\n",
    "#while loop that will print hello 5 times\n",
    "while count < 5:\n",
    "    print(\"hello\")\n",
    "    count += 1"
   ]
  },
  {
   "cell_type": "code",
   "execution_count": 10,
   "metadata": {},
   "outputs": [
    {
     "name": "stdout",
     "output_type": "stream",
     "text": [
      "Syed\n",
      " Rayhaan\n",
      " Rayhaan\n",
      "Sheeraj\n",
      "Sheeraj\n",
      "Sheeraj\n",
      "Syed\n",
      " Rayhaan\n",
      " Rayhaan\n",
      "Sheeraj\n",
      "Sheeraj\n",
      "Sheeraj\n",
      "Syed\n",
      " Rayhaan\n",
      " Rayhaan\n",
      "Sheeraj\n",
      "Sheeraj\n",
      "Sheeraj\n",
      "Syed\n",
      " Rayhaan\n",
      " Rayhaan\n",
      "Sheeraj\n",
      "Sheeraj\n",
      "Sheeraj\n"
     ]
    }
   ],
   "source": [
    "# Create variable for the outer counter so the whole process can be repeated 4 times\n",
    "outer_counter = 0\n",
    "\n",
    "while outer_counter < 4:\n",
    "    print(\"Syed\")\n",
    "    \n",
    "# Create a variable for the inner counter so the process can be repeated 2 times\n",
    "    inner_counter = 0\n",
    "    while inner_counter < 2:\n",
    "        print(\" Rayhaan\")\n",
    "        inner_counter += 1\n",
    "    \n",
    "    inner_counter = 0\n",
    "    while inner_counter < 3:\n",
    "        print(\"Sheeraj\")\n",
    "        inner_counter += 1\n",
    "    \n",
    "    outer_counter += 1"
   ]
  },
  {
   "cell_type": "code",
   "execution_count": 11,
   "metadata": {},
   "outputs": [
    {
     "name": "stdout",
     "output_type": "stream",
     "text": [
      "R\n",
      "a\n",
      "y\n",
      "h\n",
      "a\n",
      "a\n",
      "n\n"
     ]
    }
   ],
   "source": [
    "# Create a variable for the name that will be printed\n",
    "name = \"Rayhaan\"\n",
    "\n",
    "# for loop that will print each letter in the name\n",
    "for letter in name:\n",
    "    print(letter)"
   ]
  },
  {
   "cell_type": "code",
   "execution_count": 12,
   "metadata": {},
   "outputs": [
    {
     "name": "stdout",
     "output_type": "stream",
     "text": [
      "name is Rayhaan\n",
      "age is 16\n",
      "city is San Diego\n"
     ]
    }
   ],
   "source": [
    "# Create a dictionary\n",
    "\n",
    "my_info = {\n",
    "    \"name\": \"Rayhaan\",\n",
    "    \"age\": 16,\n",
    "    \"city\": \"San Diego\"\n",
    "}\n",
    "\n",
    "# Iterate through the dictionary and print the values in the dictionary\n",
    "for name, age in my_info.items():\n",
    "    print(f\"{name} is {age}\")"
   ]
  },
  {
   "cell_type": "code",
   "execution_count": 1,
   "metadata": {},
   "outputs": [
    {
     "name": "stdout",
     "output_type": "stream",
     "text": [
      "The password is correct.\n"
     ]
    }
   ],
   "source": [
    "# Homework Hack #1 \n",
    "\n",
    "# Create the password\n",
    "correct_password = \"python123\"\n",
    "\n",
    "# Use variable to store the user's input\n",
    "user_password = \"\"\n",
    "\n",
    "# Use a while loop to keep checking for the password until the password is correct\n",
    "while user_password != correct_password:\n",
    "    user_password = input(\"Enter the password: \")\n",
    "    if user_password == correct_password:\n",
    "        print(\"The password is correct.\")\n",
    "    else:\n",
    "        print(\"The password is incorrect. Please try again.\")"
   ]
  },
  {
   "cell_type": "code",
   "execution_count": 2,
   "metadata": {},
   "outputs": [
    {
     "name": "stdout",
     "output_type": "stream",
     "text": [
      "R\n",
      "a\n",
      "y\n",
      "h\n",
      "a\n",
      "a\n",
      "n\n"
     ]
    }
   ],
   "source": [
    "# Homework Hack #2\n",
    "\n",
    "# Ask for an input from the user\n",
    "username = input(\"Enter your name: \")\n",
    "\n",
    "# Use a for loop to print each letter in the username\n",
    "for letter in username:\n",
    "    print(letter)\n",
    "\n"
   ]
  },
  {
   "cell_type": "code",
   "execution_count": 4,
   "metadata": {},
   "outputs": [
    {
     "name": "stdout",
     "output_type": "stream",
     "text": [
      "apple\n",
      "banana\n",
      "cherry\n",
      "grape\n",
      "pineapple\n",
      "orange\n",
      "watermelon\n",
      "mango\n"
     ]
    }
   ],
   "source": [
    "# Homework Hack #3\n",
    "\n",
    "# Create a list of fruits\n",
    "fruits = [\"apple\", \"banana\", \"cherry\", \"grape\", \"pineapple\", \"orange\", \"watermelon\", \"mango\" ]\n",
    "\n",
    "for fruit in fruits:\n",
    "    print(fruit)"
   ]
  }
 ],
 "metadata": {
  "kernelspec": {
   "display_name": "Python 3",
   "language": "python",
   "name": "python3"
  },
  "language_info": {
   "codemirror_mode": {
    "name": "ipython",
    "version": 3
   },
   "file_extension": ".py",
   "mimetype": "text/x-python",
   "name": "python",
   "nbconvert_exporter": "python",
   "pygments_lexer": "ipython3",
   "version": "3.10.12"
  }
 },
 "nbformat": 4,
 "nbformat_minor": 2
}
