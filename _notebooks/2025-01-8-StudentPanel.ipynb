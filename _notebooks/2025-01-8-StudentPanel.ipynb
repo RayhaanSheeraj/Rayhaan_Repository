{
 "cells": [
  {
   "cell_type": "raw",
   "metadata": {
    "vscode": {
     "languageId": "raw"
    }
   },
   "source": [
    "---\n",
    "layout: post\n",
    "title: Girls in CS Panel\n",
    "description: \n",
    "categories: [Collaboration]\n",
    "permalink: /girlsincsevent\n",
    "type: collab\n",
    "comments: true\n",
    "---"
   ]
  },
  {
   "cell_type": "markdown",
   "metadata": {},
   "source": [
    "Comments\n",
    "Here you can comment about my website and I can use the feedback to further improve my website"
   ]
  },
  {
   "cell_type": "markdown",
   "metadata": {},
   "source": [
    "\n",
    "# Lessons from STEM Student Panel\n",
    "\n",
    "![wtv](https://i.postimg.cc/JzCV6Gv1/csp.jpg)\n",
    "\n",
    "### 1. Experimenting in Different Areas of STEM\n",
    "One common takeaway i got from al 4 of the college students is that STEM is the future but there are many topics and ideas related to it. All the college students tried different areas in stem to find what they liked most. I want to explore/continue exploring various STEM arezs to find what im intresed in.\n",
    "\n",
    "How I want to apply this: Explore deeper into programming and electrical engineering, Explore mechanical engeinnering, areaspace engineering etc. \n",
    "\n",
    "---\n",
    "\n",
    "### 2. Understanding Code Beyond \"Does It Work?\"\n",
    "Another main lesson I took apart from expiramenting with different areas of STEM was something told by David. He emphasized that at college rather than checking if your code works your graded on if you know how code works. \n",
    "How I want to apply this: Instead of just writing lines of code for the sake of it, understand what the code your writing does. A good understanding of the code is very important for the future and I want to be able to understand code. \n",
    "\n",
    "---\n",
    "\n",
    "### 3. Clear and Concise Communication\n",
    "Another thing emphasized by the college students was having clear and concise communication is key to showing that you know what your doing.\n",
    "\n",
    "How I want to apply this: Have clear and concise communication during live reviews during CSP. Live Reviews help prove that you understand code and shows that you know what you are doing.\n",
    "\n",
    "---\n",
    "\n",
    "### 4. Building on Ideas from Multiple Pieces\n",
    "Another lesson I learned about was brainstorming. From Vivian, I learned that if you ever get stuck coming up with idea you should take multiple pieces of an idea that already exists and build upon that idea. Thiking about new innovative ways to solve problems is the future throgh STEM and knowing how to create ideas is key.  \n",
    "\n",
    "How I want to apply this: When im stuck, take a look at it from a differnt point of view and build on that.\n",
    "\n",
    "---\n",
    "\n",
    "### 5. Project-Based Learning\n",
    "The third lesson I learnt is that project-Based learning does not just stop after CSP and CSA, once you go into college you use project based-learning everywhere. Project based learning helps you by making you actually be hands on and helping you learn better.\n",
    "\n",
    "How I want to apply this: Continue working on the projects given in CSP, put more effort into them as these projects help prepare you for not only the class but also college and for the future(jobs).\n",
    "\n",
    "\n",
    "\n"
   ]
  }
 ],
 "metadata": {
  "language_info": {
   "name": "python"
  },
  "orig_nbformat": 4
 },
 "nbformat": 4,
 "nbformat_minor": 2
}
