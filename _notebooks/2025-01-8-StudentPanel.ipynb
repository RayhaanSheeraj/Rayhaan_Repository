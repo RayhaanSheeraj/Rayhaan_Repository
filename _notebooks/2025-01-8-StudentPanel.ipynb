{
 "cells": [
  {
   "cell_type": "raw",
   "metadata": {
    "vscode": {
     "languageId": "raw"
    }
   },
   "source": [
    "---\n",
    "layout: post\n",
    "title: Girls in CS Panel\n",
    "description: \n",
    "categories: [Collaboration]\n",
    "permalink: /girlsincsevent\n",
    "type: collab\n",
    "comments: true\n",
    "---"
   ]
  },
  {
   "cell_type": "markdown",
   "metadata": {},
   "source": [
    "Comments\n",
    "Here you can comment about my website and I can use the feedback to further improve my website"
   ]
  },
  {
   "cell_type": "markdown",
   "metadata": {},
   "source": [
    "\n",
    "# Lessons from STEM Student Panel\n",
    "\n",
    "---\n",
    "\n",
    "### 1. Experimenting in Different Areas of STEM\n",
    "One common takeaway from all four college students was that STEM is the future, but it encompasses many topics and ideas. Each of the panelists experimented with different areas in STEM to discover what they enjoyed most.\n",
    "\n",
    "**How I want to apply this:**  \n",
    "I want to explore programming and electrical engineering more deeply. Additionally, I’m eager to explore fields like mechanical engineering and aerospace engineering, which I haven’t delved into yet.\n",
    "\n",
    "---\n",
    "\n",
    "### 2. Understanding Code Beyond \"Does It Work?\"\n",
    "David emphasized that in college, you’re graded not only on whether your code works but also on how well you understand it. This taught me that understanding the underlying principles of coding is crucial—not just for CSP but also for the future.\n",
    "\n",
    "**How I want to apply this:**  \n",
    "Instead of simply writing code to complete a project, I want to focus on truly understanding the functionality behind each line of code. Developing a solid understanding will be essential for my success in the future.\n",
    "\n",
    "---\n",
    "\n",
    "### 3. Clear and Concise Communication\n",
    "Another key takeaway from the panel was the importance of clear and concise communication. Being able to articulate your ideas effectively demonstrates that you know what you’re doing.\n",
    "\n",
    "**How I want to apply this:**  \n",
    "I aim to improve my communication skills, particularly during live reviews in CSP, by being clear and concise.\n",
    "\n",
    "---\n",
    "\n",
    "### 4. Planning Before Doing\n",
    "David highlighted the importance of planning out a project before diving into the work.\n",
    "\n",
    "**How I want to apply this:**  \n",
    "Before starting CSP projects, I plan to ensure proper planning by identifying key issues, creating a burndown chart, and using visual representations. I’ll focus on keeping my plans well-organized and structured.\n",
    "\n",
    "---\n",
    "\n",
    "### 5. Project-Based Learning\n",
    "The panelists also emphasized that project-based learning doesn’t stop after CSP or CSA. In college, and even in future careers, project-based learning is a key method for gaining hands-on experience and developing practical skills.\n",
    "\n",
    "**How I want to apply this:**  \n",
    "I will continue working diligently on CSP projects, putting in extra effort to go above and beyond. These projects not only prepare me for class but also for college and my future career.\n",
    "\n",
    "---\n",
    "\n",
    "### Summary\n",
    "Attending this panel was incredibly valuable because I gained useful insights about CSP and my future. I plan to apply these lessons from the college students to improve myself. By exploring different STEM fields, understanding code deeply, improving communication, planning effectively, and embracing project-based learning, I’ll be better prepared for the challenges ahead.\n",
    "\n",
    "\n",
    "## Proof I was there\n",
    "![wtv](https://i.postimg.cc/JzCV6Gv1/csp.jpg)\n",
    "\n"
   ]
  }
 ],
 "metadata": {
  "language_info": {
   "name": "python"
  },
  "orig_nbformat": 4
 },
 "nbformat": 4,
 "nbformat_minor": 2
}
