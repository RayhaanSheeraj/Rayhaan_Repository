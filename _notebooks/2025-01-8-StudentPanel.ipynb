{
 "cells": [
  {
   "cell_type": "raw",
   "metadata": {
    "vscode": {
     "languageId": "raw"
    }
   },
   "source": [
    "---\n",
    "layout: post\n",
    "title: Girls in CS Panel\n",
    "description: \n",
    "categories: [Collaboration]\n",
    "permalink: /girlsincsevent\n",
    "type: collab\n",
    "comments: true\n",
    "---"
   ]
  },
  {
   "cell_type": "markdown",
   "metadata": {},
   "source": [
    "Comments\n",
    "Here you can comment about my website and I can use the feedback to further improve my website"
   ]
  },
  {
   "cell_type": "markdown",
   "metadata": {},
   "source": [
    "\n",
    "\n",
    "![wtv](https://i.postimg.cc/JzCV6Gv1/csp.jpg)\n",
    "\n",
    "### 1. Experimenting in Different Areas of STEM\n",
    "One common takeaway I got from all 4 of the college students is that STEM is the future but there are many topics and ideas related to it. All the college students tried different areas in stem to find what they liked most. \n",
    "\n",
    "How I want to apply this: I want to explore deeper into programming and electrical engineering. I also want to explore mechanical engineering, aerospace engineering which are things I haven't explored before. \n",
    "\n",
    "---\n",
    "\n",
    "### 2. Understanding Code Beyond \"Does It Work?\"\n",
    "David emphasized that at college rather than checking if your code works your graded on if you know how code works. From this I learned was that understanding code is key for not only CSP but also the future.  \n",
    "\n",
    "How I want to apply this: Instead of just writing lines of code to get the project done, understand what the code your writing does. A good understanding of the code is very important for the future and I want to be able to understand code to be successful. \n",
    "\n",
    "---\n",
    "\n",
    "### 3. Clear and Concise Communication\n",
    "One more thing emphasized by the college students was having clear and concise communication is key to showing that you know what your doing.\n",
    "\n",
    "How I want to apply this: I want clear and concise communication during live reviews during CSP. \n",
    "---\n",
    "\n",
    "### 4. Planning Before Doing\n",
    "In the panel I remember David emphasizing planning out a project before going into it. \n",
    "\n",
    "How I want to apply this: Before going into CSP projects I aim to ensure that there is an issue with a burn down, and visual representation. I aim to keep the planning organized and well structured  \n",
    "\n",
    "---\n",
    "\n",
    "### 5. Project-Based Learning\n",
    "The third lesson I learnt is that project-Based learning does not just stop after CSP and CSA, once you go into college you use project based-learning everywhere. Project based learning helps you by making you actually be hands on and helping you learn better.\n",
    "\n",
    "How I want to apply this: Continue working on the projects given in CSP, and put more effort into them(by going above and beyond) as these projects help prepare you for not only the class but also college and for my future(jobs).\n",
    "\n",
    "## Summary\n",
    "Overall, I am glad I went to this panel because I learned useful information about CSP as well as my future. I plan to use the lessons that I learned from the college students to improve and better myself \n",
    "\n"
   ]
  }
 ],
 "metadata": {
  "language_info": {
   "name": "python"
  },
  "orig_nbformat": 4
 },
 "nbformat": 4,
 "nbformat_minor": 2
}
