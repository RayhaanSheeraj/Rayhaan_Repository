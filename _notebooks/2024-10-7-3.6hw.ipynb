{
 "cells": [
  {
   "cell_type": "raw",
   "metadata": {
    "vscode": {
     "languageId": "raw"
    }
   },
   "source": [
    "---\n",
    "layout: post\n",
    "title: 3.6 HW\n",
    "description:  3.6 HW and Popcorn Hacks\n",
    "type: issues \n",
    "comments: true\n",
    "categories: [Tri 1 Documentation] \n",
    "permalink: /3.6HW/\n",
    "---"
   ]
  },
  {
   "cell_type": "code",
   "execution_count": 7,
   "metadata": {},
   "outputs": [
    {
     "name": "stdout",
     "output_type": "stream",
     "text": [
      "It's a warm day\n"
     ]
    }
   ],
   "source": [
    "#Popcorn Hack #1\n",
    "# Step 1: Add a variable that represents temperature\n",
    "temperature = 60  # You can change this value to test different conditions\n",
    "\n",
    "# Step 2: Check if it’s a hot day\n",
    "if temperature >= 80:\n",
    "    print(\"It's a hot day\")\n",
    "# Step 3: If it’s not a hot day, check if it’s a warm day using an elif statement\n",
    "elif 60 <= temperature <= 79:\n",
    "    print(\"It's a warm day\")\n",
    "# Step 4: Otherwise, print it's a cold day\n",
    "else:\n",
    "    print(\"It's a cold day\")"
   ]
  },
  {
   "cell_type": "code",
   "execution_count": null,
   "metadata": {
    "vscode": {
     "languageId": "javascript"
    }
   },
   "outputs": [],
   "source": [
    "// Popcorn Hack #2\n",
    "let score = 85;\n",
    "\n",
    "if (score >= 60) {\n",
    "    console.log(\"You passed!\");\n",
    "}\n",
    "// Add an else statement to say you failed if the score is less than 60\n",
    "else { \n",
    "    console.log(\"You failed.\");\n",
    "}"
   ]
  },
  {
   "cell_type": "code",
   "execution_count": null,
   "metadata": {},
   "outputs": [],
   "source": [
    "# Homework Hack 1 Python: Even or Odd\n",
    "\n",
    "def check_odd_even(number):\n",
    "    if number % 2 == 0:\n",
    "        return (number, \"is even.\")\n",
    "    else:\n",
    "        return(number, \"is odd\")\n",
    "print(check_odd_even(5))\n",
    "print(check_odd_even(27))\n",
    "print(check_odd_even(20))\n",
    "print(check_odd_even(10))\n"
   ]
  },
  {
   "cell_type": "code",
   "execution_count": null,
   "metadata": {},
   "outputs": [],
   "source": [
    "# Homework Hack 2 Python: Leap Year Checker\n",
    "def check_leap_year(year):\n",
    "    if year % 4 == 0 and year % 100 != 0 or year % 400 == 0:\n",
    "        return (year, \"is a leap year.\")\n",
    "    else:\n",
    "        return(year, \"isn't a leap year\")\n",
    "print(check_leap_year(2024))\n",
    "print(check_leap_year(1998))\n",
    "print(check_leap_year(2000))\n",
    "print(check_leap_year(1678))\n"
   ]
  },
  {
   "cell_type": "code",
   "execution_count": null,
   "metadata": {},
   "outputs": [],
   "source": [
    "# Homework Hack 3 Python: Temperature Range Checker\n",
    "def check_temp_range(temperature):\n",
    "    if temperature >= 85:\n",
    "        return (\"Hot\")\n",
    "    elif 60<= temperature <= 80:\n",
    "        return(\"Warm\")\n",
    "    else: \n",
    "        return(\"Cold\")\n",
    "print(\"The temperature is\" ,check_temp_range(60))\n",
    "print(\"The temperature is\", check_temp_range(95))\n",
    "print(\"The temperature is\", check_temp_range(45))"
   ]
  },
  {
   "cell_type": "code",
   "execution_count": null,
   "metadata": {
    "vscode": {
     "languageId": "javascript"
    }
   },
   "outputs": [],
   "source": [
    "// Homework Hack 1 Javascript: Voting Check\n",
    "function checkVotingEligibility(age){\n",
    "    if (age >= 18) {\n",
    "        return \"You can vote!\";\n",
    "    }\n",
    "    else {\n",
    "        let yearsLeft = 18 - age;\n",
    "        return \"You are not old enough to vote.\" + \" You have \" + yearsLeft + \" more years until you are eligible to vote.\";\n",
    "    } \n",
    "\n",
    "}\n",
    "\n",
    "console.log(checkVotingEligibility(5));\n",
    "console.log(checkVotingEligibility(21));"
   ]
  },
  {
   "cell_type": "code",
   "execution_count": null,
   "metadata": {
    "vscode": {
     "languageId": "javascript"
    }
   },
   "outputs": [],
   "source": [
    "// Homework Hack 2 Javascript:  Grade Calculator\n",
    "function calculateGrade(score){\n",
    "    if (score >= 90) {\n",
    "        return \"A\";\n",
    "    }\n",
    "    else if (score >= 80) {\n",
    "        return \"B\";\n",
    "    }\n",
    "    else if (score >= 70) {\n",
    "        return \"C\";\n",
    "    }\n",
    "    else if (score >= 60) {\n",
    "        return \"D\";\n",
    "    }\n",
    "    else {\n",
    "        return \"F\";\n",
    "    }\n",
    "}\n",
    "\n",
    "console.log(calculateGrade(95));\n",
    "console.log(calculateGrade(25));\n",
    "console.log(calculateGrade(72));\n",
    "\n"
   ]
  },
  {
   "cell_type": "code",
   "execution_count": null,
   "metadata": {
    "vscode": {
     "languageId": "javascript"
    }
   },
   "outputs": [],
   "source": [
    "// Homework Hack 3 Javascript: Temperature Converter\n",
    "function convertTemperature(value, scale) {\n",
    "    if (scale === \"C\") {\n",
    "        return (value * 9/5 + 32) + \"°F\";\n",
    "    } else if (scale === \"F\") {\n",
    "        return ((value - 32) * 5/9) + \"°C\";\n",
    "    } else if (scale === \"K\") {\n",
    "        return (value - 273) + \"°C\";\n",
    "    } else if (scale === \"C-K\") {\n",
    "        return (value + 273) + \"K\";\n",
    "    } else if (scale === \"F-K\") {\n",
    "        return ((value - 32) * 5/9 + 273) + \"K\";\n",
    "    } else if (scale === \"K-F\") {\n",
    "        return ((value - 273.15) * 9/5 + 32) + \"°F\";\n",
    "    } else {\n",
    "        return \"Erorr, Invalid scale\";\n",
    "    }\n",
    "}\n",
    "\n",
    "console.log(convertTemperature(100, \"C\"));\n",
    "console.log(convertTemperature(212, \"F\"));\n",
    "console.log(convertTemperature(0, \"K\"));\n",
    "console.log(convertTemperature(100, \"C-K\"));\n",
    "console.log(convertTemperature(212, \"F-K\"));\n",
    "console.log(convertTemperature(0, \"K-F\"));\n",
    "console.log(convertTemperature(100, \"A\"));"
   ]
  }
 ],
 "metadata": {
  "kernelspec": {
   "display_name": "Python 3",
   "language": "python",
   "name": "python3"
  },
  "language_info": {
   "codemirror_mode": {
    "name": "ipython",
    "version": 3
   },
   "file_extension": ".py",
   "mimetype": "text/x-python",
   "name": "python",
   "nbconvert_exporter": "python",
   "pygments_lexer": "ipython3",
   "version": "3.10.12"
  }
 },
 "nbformat": 4,
 "nbformat_minor": 2
}
