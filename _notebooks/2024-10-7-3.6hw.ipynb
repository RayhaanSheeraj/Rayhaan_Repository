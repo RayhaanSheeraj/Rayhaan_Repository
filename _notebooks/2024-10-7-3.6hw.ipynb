{
 "cells": [
  {
   "cell_type": "raw",
   "metadata": {
    "vscode": {
     "languageId": "raw"
    }
   },
   "source": [
    "---\n",
    "layout: post\n",
    "title: 3.6 HW\n",
    "description:  3.6 HW and Popcorn Hacks\n",
    "type: issues \n",
    "comments: true\n",
    "\n",
    "---"
   ]
  },
  {
   "cell_type": "code",
   "execution_count": 1,
   "metadata": {},
   "outputs": [
    {
     "name": "stdout",
     "output_type": "stream",
     "text": [
      "It's a cold day\n"
     ]
    }
   ],
   "source": [
    "#Popcorn Hack #1\n",
    "# Step 1: Add a variable that represents temperature\n",
    "temperature = 50  # You can change this value to test different conditions\n",
    "\n",
    "# Step 2: Check if it’s a hot day\n",
    "if temperature >= 80:\n",
    "    print(\"It's a hot day\")\n",
    "# Step 3: If it’s not a hot day, check if it’s a warm day using an elif statement\n",
    "elif 79 <= temperature <= 60:\n",
    "    print(\"It's a warm day\")\n",
    "# Step 4: Otherwise, print it's a cold day\n",
    "else:\n",
    "    print(\"It's a cold day\")"
   ]
  },
  {
   "cell_type": "code",
   "execution_count": null,
   "metadata": {
    "vscode": {
     "languageId": "javascript"
    }
   },
   "outputs": [],
   "source": [
    "// Popcorn Hack #2\n",
    "let score = 85;\n",
    "\n",
    "if (score >= 60) {\n",
    "    console.log(\"You passed!\");\n",
    "}\n",
    "// Add an else statement to say you failed if the score is less than 60\n",
    "else { \n",
    "    console.log(\"You failed.\");\n",
    "}"
   ]
  },
  {
   "cell_type": "code",
   "execution_count": 2,
   "metadata": {},
   "outputs": [
    {
     "name": "stdout",
     "output_type": "stream",
     "text": [
      "(5, 'is odd')\n",
      "(27, 'is odd')\n",
      "(20, 'is even.')\n",
      "(10, 'is even.')\n"
     ]
    }
   ],
   "source": [
    "# Homework Hack 1 Python: Even or Odd\n",
    "\n",
    "def check_odd_even(number):\n",
    "    if number % 2 == 0:\n",
    "        return (number, \"is even.\")\n",
    "    else:\n",
    "        return(number, \"is odd\")\n",
    "print(check_odd_even(5))\n",
    "print(check_odd_even(27))\n",
    "print(check_odd_even(20))\n",
    "print(check_odd_even(10))\n"
   ]
  },
  {
   "cell_type": "code",
   "execution_count": 3,
   "metadata": {},
   "outputs": [
    {
     "name": "stdout",
     "output_type": "stream",
     "text": [
      "(2024, 'is a leap year.')\n",
      "(1998, \"isn't a leap year\")\n",
      "(2000, 'is a leap year.')\n",
      "(1678, \"isn't a leap year\")\n"
     ]
    }
   ],
   "source": [
    "# Homework Hack 2 Python: Leap Year Checker\n",
    "def check_leap_year(year):\n",
    "    if year % 4 == 0 and year % 100 != 0 or year % 400 == 0:\n",
    "        return (year, \"is a leap year.\")\n",
    "    else:\n",
    "        return(year, \"isn't a leap year\")\n",
    "print(check_leap_year(2024))\n",
    "print(check_leap_year(1998))\n",
    "print(check_leap_year(2000))\n",
    "print(check_leap_year(1678))\n"
   ]
  },
  {
   "cell_type": "code",
   "execution_count": 4,
   "metadata": {},
   "outputs": [
    {
     "name": "stdout",
     "output_type": "stream",
     "text": [
      "The temperature is Warm\n",
      "The temperature is Hot\n",
      "The temperature is Cold\n"
     ]
    }
   ],
   "source": [
    "# Homework Hack 3 Python: Temperature Range Checker\n",
    "def check_temp_range(temperature):\n",
    "    if temperature >= 85:\n",
    "        return (\"Hot\")\n",
    "    elif 60<= temperature <= 80:\n",
    "        return(\"Warm\")\n",
    "    else: \n",
    "        return(\"Cold\")\n",
    "print(\"The temperature is\" ,check_temp_range(60))\n",
    "print(\"The temperature is\", check_temp_range(95))\n",
    "print(\"The temperature is\", check_temp_range(45))"
   ]
  },
  {
   "cell_type": "code",
   "execution_count": null,
   "metadata": {
    "vscode": {
     "languageId": "javascript"
    }
   },
   "outputs": [],
   "source": [
    "// Homework Hack 1 Javascript: Voting Check\n",
    "function checkVotingEligibility(age){\n",
    "    if (age >= 18) {\n",
    "        return \"You can vote!\";\n",
    "    }\n",
    "    else {\n",
    "        return \"You are not old enough to vote.\";\n",
    "    } \n",
    "\n",
    "}\n",
    "\n",
    "console.log(checkVotingEligibility(5));\n",
    "console.log(checkVotingEligibility(21));"
   ]
  },
  {
   "cell_type": "code",
   "execution_count": null,
   "metadata": {
    "vscode": {
     "languageId": "javascript"
    }
   },
   "outputs": [],
   "source": [
    "// Homework Hack 2 Javascript:  Grade Calculator\n",
    "function calculateGrade(score){\n",
    "    if (score >= 90) {\n",
    "        return \"A\";\n",
    "    }\n",
    "    else if (score >= 80) {\n",
    "        return \"B\";\n",
    "    }\n",
    "    else if (score >= 70) {\n",
    "        return \"C\";\n",
    "    }\n",
    "    else if (score >= 60) {\n",
    "        return \"D\";\n",
    "    }\n",
    "    else {\n",
    "        return \"F\";\n",
    "    }\n",
    "}\n",
    "\n",
    "console.log(calculateGrade(95));\n",
    "console.log(calculateGrade(25));\n",
    "console.log(calculateGrade(72));\n",
    "\n"
   ]
  },
  {
   "cell_type": "code",
   "execution_count": null,
   "metadata": {
    "vscode": {
     "languageId": "javascript"
    }
   },
   "outputs": [],
   "source": [
    "// Homework Hack 3 Javascript: Temperature Converter\n",
    "function convertCelsiusToFahrenheit(value, scale){\n",
    "    if (scale === \"C\") {\n",
    "        return value * 9/5 + 32;\n",
    "    }\n",
    "    else if (scale === \"F\") {\n",
    "        return (value - 32) * 5/9;\n",
    "    }\n",
    "    else {\n",
    "        return \"Invalid scale\";\n",
    "    }\n",
    "}\n",
    "\n",
    "console.log(convertCelsiusToFahrenheit(100, \"C\"));\n",
    "console.log(convertCelsiusToFahrenheit(50, \"F\"));\n",
    "console.log(convertCelsiusToFahrenheit(100, \"F\"));\n",
    "console.log(convertCelsiusToFahrenheit(273, \"K\"));\n"
   ]
  }
 ],
 "metadata": {
  "kernelspec": {
   "display_name": "Python 3",
   "language": "python",
   "name": "python3"
  },
  "language_info": {
   "codemirror_mode": {
    "name": "ipython",
    "version": 3
   },
   "file_extension": ".py",
   "mimetype": "text/x-python",
   "name": "python",
   "nbconvert_exporter": "python",
   "pygments_lexer": "ipython3",
   "version": "3.10.12"
  }
 },
 "nbformat": 4,
 "nbformat_minor": 2
}
