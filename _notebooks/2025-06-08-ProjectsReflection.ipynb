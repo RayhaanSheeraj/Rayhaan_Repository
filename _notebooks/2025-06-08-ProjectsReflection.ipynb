{
 "cells": [
  {
   "cell_type": "raw",
   "metadata": {
    "vscode": {
     "languageId": "raw"
    }
   },
   "source": [
    "---\n",
    "layout: post\n",
    "title: Project Overview and Unique Contributions\n",
    "categories: [Reflection]\n",
    "description: Overview of my projects, unique skills, and contributions to Striverr and the GitHub Analytics Page\n",
    "permalink: /ProjectOverviewBlog/\n",
    "comments: true\n",
    "---"
   ]
  },
  {
   "cell_type": "markdown",
   "metadata": {},
   "source": [
    "\n",
    "## Striverr: Planning, Management, and Deployment\n",
    "\n",
    "One of my main projects this year was **Striverr**, a platform designed to empower users to track their growth, celebrate achievements, and connect with others. I played a key role in planning and managing the project, helping to organize our team’s workflow and set clear goals for each sprint. I also contributed to the deployment process, ensuring that our application was accessible and stable for users. My involvement in both the technical and organizational sides of Striverr helped the team stay on track and deliver a polished product.\n",
    "\n",
    "**Key Features I Contributed To:**\n",
    "- Step Tracker: Users can input daily steps and receive motivational feedback.\n",
    "- User Profiles: Showcasing achievements and progress.\n",
    "- Deployment: Assisted with setting up and maintaining the live site.\n",
    "\n",
    "## GitHub Analytics Page: Collaboration and Innovation\n",
    "\n",
    "Another highlight was working on the **GitHub Analytics Page** for the Nighthawk Coders portfolio. Our goal was to make analytics more descriptive, accurate, and interactive for users. I collaborated with teammates to design and build a page where users can view detailed analytics from their GitHub profiles. We improved the frontend so users can click on their contributions and access their own profiles directly through the portfolio.\n",
    "\n",
    "### My Unique Contribution: Grade Predictor\n",
    "\n",
    "I developed a **grade predictor** using a Github API. This tool allows users to estimate their final grade in the class based on their contributions and analytics data. Integrating this feature required both backend and frontend work, as well as knowledge of machine learning concepts. The grade predictor adds real value for students who want to track their progress and set goals.\n",
    "\n",
    "## Project Description and Impact\n",
    "\n",
    "We wanted to improve the Open Coding Society portfolio webpage by making analytics more useful and user-friendly. Previously, analytics were often unclear and sometimes inaccurate, and users couldn’t interact with their contributions on the frontend. By adding clickable contributions and a more descriptive analytics page, we made it easier for users to access and understand their own data.\n",
    "\n",
    "The addition of the grade predictor through a machine learning API takes this a step further, giving users actionable insights into their performance and helping them plan for success.\n",
    "\n",
    "## My Skills and Qualities\n",
    "\n",
    "- **Project Planning & Management:** Organized team tasks, set goals, and kept the project on schedule.\n",
    "- **Full-Stack Development:** Worked on both backend APIs and frontend interfaces.\n",
    "- **Agile Methodology:** Used agile practices such as sprints, stand-ups, and iterative development to ensure continuous progress and adaptability.\n",
    "- **Collaboration:** Communicated effectively with teammates to solve problems and share ideas.\n",
    "- **Deployment & Maintenance:** Helped ensure our projects were live and accessible to users.\n",
    "\n",
    "---\n",
    "\n",
    "Overall, these projects allowed me to showcase my technical skills, leadership, and ability to work collaboratively. I’m proud of what I accomplished and excited to keep building and learning in future projects."
   ]
  }
 ],
 "metadata": {
  "kernelspec": {
   "display_name": "Python 3",
   "language": "python",
   "name": "python3"
  },
  "language_info": {
   "codemirror_mode": {
    "name": "ipython",
    "version": 3
   },
   "file_extension": ".py",
   "mimetype": "text/x-python",
   "name": "python",
   "nbconvert_exporter": "python",
   "pygments_lexer": "ipython3",
   "version": "3.10.12"
  },
  "orig_nbformat": 4
 },
 "nbformat": 4,
 "nbformat_minor": 2
}
