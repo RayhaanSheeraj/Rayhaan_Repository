{
 "cells": [
  {
   "cell_type": "raw",
   "metadata": {
    "vscode": {
     "languageId": "raw"
    }
   },
   "source": [
    "---\n",
    "layout: post\n",
    "title: N@TM 2025 Project Reflections\n",
    "description: Night at the Museum 2025 Project Reflections\n",
    "categories: [Collaboration]\n",
    "permalink: /N@TM2025Reflection/\n",
    "type: collab\n",
    "comments: true\n",
    "---"
   ]
  },
  {
   "cell_type": "markdown",
   "metadata": {},
   "source": [
    "Comments\n",
    "Here you can comment about my website and I can use the feedback to further improve my website"
   ]
  },
  {
   "cell_type": "markdown",
   "metadata": {},
   "source": [
    "## Pawnsy\n",
    "\n",
    "![wtv](https://i.postimg.cc/bNR6LB5Z/image-2025-03-02-120026641.png)\n",
    "\n",
    "Pawnsy chess based social site, play analyze, improve chess. One group member, Vasanth made a skills API for users to track their chess progress so they can learn from there mistakes and improve.\n",
    "\n",
    "### Strengths:  \n",
    "- **Clear Presentation**  \n",
    "  - The site was well explained during the presentation.  \n",
    "\n",
    "- **Interactive Demo**  \n",
    "  - Allowing us to test the site and play chess against the AI bot was a great addition.  \n",
    "\n",
    "- **Consistent Styling**  \n",
    "  - Most of the design is cohesive, creating a unified look.  \n",
    "\n",
    "### Areas for Improvement:  \n",
    "- **Game Manager Styling**  \n",
    "  - Consider updating the Game Manager's design to better match the rest of the site.  \n",
    "\n",
    "- **Color Palette**  \n",
    "  - Adding more color variety could enhance the visual appeal instead of relying solely on gray.  \n",
    "\n",
    "- **User-Friendly Navigation**  \n",
    "  - Instead of redirecting users directly to the Chess Game Manager page, consider leading them to an introduction page that explains the site's purpose.  \n",
    "\n",
    "\n",
    "\n",
    "## Travel Planner\n",
    "\n",
    "It's a travel planner that helps users find accommodations, manage their checklists, book flights, and more. \n",
    "\n",
    "### Strengths:\n",
    "- **Engaging Feature Explanations**  \n",
    "  - The descriptions were clear and easy to follow.  \n",
    "  - Being able to interact with some features made the experience more enjoyable.  \n",
    "\n",
    "- **Well-Structured Presentation**  \n",
    "  - The presentation was brief but effective.  \n",
    "  - Covering only half of the features allowed us to explore the rest independently.  \n",
    "\n",
    "- **Consistent and Modern Styling**  \n",
    "  - The dark gray and neon blue theme creates a sleek, integrated look.  \n",
    "  - Every feature follows the same design, maintaining visual harmony.  \n",
    "\n",
    "- **Diverse and Useful Features**  \n",
    "  - The inclusion of APIs beyond basic post requests adds value.  \n",
    "  - Interactive tools like the hospital location map and hotel finder stand out.  \n",
    "\n",
    "- **Admin Role Enhancements**  \n",
    "  - Special privileges for admins improve management and oversight.  \n",
    "\n",
    "### Areas for Improvement:\n",
    "- **Refining Admin Permissions**  \n",
    "  - Some admin privileges, like viewing user packing checklists, seem unnecessary.  \n",
    "  - Consider limiting access to maintain user privacy.  \n",
    "\n",
    "- **Design Consistency**  \n",
    "  - The main page’s purple background doesn’t match the rest of the design.  \n",
    "  - Adjusting it to align with the dark gray and neon blue theme would improve cohesion.  \n",
    "\n",
    "- **Fixing Broken Links**  \n",
    "  - Some buttons lead to 404 pages.  \n",
    "  - Unused links should be removed or updated to avoid confusion.  \n",
    "\n"
   ]
  }
 ],
 "metadata": {
  "language_info": {
   "name": "python"
  },
  "orig_nbformat": 4
 },
 "nbformat": 4,
 "nbformat_minor": 2
}
