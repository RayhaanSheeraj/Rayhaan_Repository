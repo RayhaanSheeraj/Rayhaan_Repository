{
 "cells": [
  {
   "cell_type": "raw",
   "metadata": {
    "vscode": {
     "languageId": "raw"
    }
   },
   "source": [
    "---\n",
    "layout: post\n",
    "title: N@TM 2025 Project Reflections\n",
    "description: Night at the Museum 2025 Project Reflections\n",
    "categories: [Collaboration]\n",
    "permalink: /N@TM2025Reflection/\n",
    "type: collab\n",
    "comments: true\n",
    "---"
   ]
  },
  {
   "cell_type": "markdown",
   "metadata": {},
   "source": [
    "Comments\n",
    "Here you can comment about my website and I can use the feedback to further improve my website"
   ]
  },
  {
   "cell_type": "markdown",
   "metadata": {},
   "source": [
    "## Pawnsy\n",
    "\n",
    "![wtv](https://i.postimg.cc/bNR6LB5Z/image-2025-03-02-120026641.png)\n",
    "\n",
    "Pawnsy chess based social site, play analyze, improve chess. One group member, Vasanth made a skills API for users to track their chess progress so they can learn from there mistakes and improve.\n",
    "\n",
    "- I liked how in the presentation they explained the site well \n",
    "- I liked how they allowed us to demo the site and allowed us to play chess against the AI bot\n",
    "- I like how the styling is mostly consistant, maybe consider changing the game manager styling \n",
    "- I think they could add more color instead of it all just being grey \n",
    "- Consider changing some basic UI to make your cite more user friendly, such as taking you to a page which explains what the cite is about instead of it redirecting you to the Chess Game Manager page\n",
    "\n",
    "\n"
   ]
  }
 ],
 "metadata": {
  "language_info": {
   "name": "python"
  },
  "orig_nbformat": 4
 },
 "nbformat": 4,
 "nbformat_minor": 2
}
