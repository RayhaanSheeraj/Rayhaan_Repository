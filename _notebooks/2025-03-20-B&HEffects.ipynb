{
 "cells": [
  {
   "cell_type": "raw",
   "metadata": {
    "vscode": {
     "languageId": "raw"
    }
   },
   "source": [
    "---\n",
    "layout: post\n",
    "title: Beneficial and Harmful Effects of  Technology\n",
    "description: Popcorn and Homework Hacks\n",
    "categories: [Collaboration]\n",
    "permalink: /BenefificalandHarmfulEffectsofTechnology/\n",
    "type: collab\n",
    "comments: true\n",
    "---"
   ]
  },
  {
   "cell_type": "markdown",
   "metadata": {},
   "source": [
    "Comments\n",
    "Here you can comment about my website and I can use the feedback to further improve my website"
   ]
  },
  {
   "cell_type": "markdown",
   "metadata": {},
   "source": [
    "## Computer Innovations\n",
    "\n",
    "### Popcorn Hack 1\n",
    "\n",
    "Technological innovations bring many significant changes in society which enhances commmunication while also creating new challenges such as privacy risks. One example of improve communication is innovation such as smartphones and the internet which have majorly changed the way people have communicated. However the same technologies that help with communication, such as the internet can lead to many privacy concerns and cyberbullying.\n",
    "\n",
    "### Popcorn Hack 2\n",
    "Negative effects of technology such as privacy breache can harm individuals and society and can make people feel unsafe. Responsible programming could involve implememnting security measures that respect user privacy, to stop the misuese of technology. If we can prioritize user safety we can create safer enviroment. \n",
    "\n",
    "## Dopamine Beneficial and Harmful Effets\n",
    "\n",
    "### Popcorn Hack 3\n",
    "\n",
    "Understanding the unintended consequences of technology, especially dopamine-driven technology is important because it can lead to addiciction, give anxiety and negativle impact mental health. By recognizing these effects, everyone to prevent risks such as implemneting limits of using certain applications. This would create a more balanced approach to dopamine technology, which benefits society and people without causing harm. \n",
    "\n"
   ]
  },
  {
   "cell_type": "markdown",
   "metadata": {},
   "source": [
    "## Homework Hacks\n",
    "\n",
    "### Hack 1\n",
    "\n",
    "- **AI Innovation:** Language translation AI  \n",
    "- **Original Use:** Made to translate text or speech between languages.  \n",
    "- **New Use Case:** Used to translate animal sounds into human language.  \n",
    "- **Impact:**  \n",
    "  - **Benefits:**  \n",
    "    - Helps researchers understand animal communication. \n",
    "    - Helps us learn a lot more about animals. \n",
    "    - Could improve animal care and conservation. \n",
    "  - **Risks:**  \n",
    "    - Could be misused for entertainment, not science. \n",
    "    - AI is not fully advanced yet, so translations could be wrong leading to misunderstandings.\n",
    "\n",
    "### Hack 2\n",
    "- **Problem:** Fake videos made by AI (deepfakes).  \n",
    "- **Risk:** Can spread lies, ruin reputations, and can cause harm.  \n",
    "- **Solution 1:** Add watermarks or digitial fingerprints to real videos to prove they are real.  \n",
    "- **Solution 2:** Use AI to spot and label fake videos before they spread.  \n",
    "\n",
    "- **Reflection:**  \n",
    "AI is powerful but can be dangerous if misused. Making it safe helps protect people from false information. I beleive that is is very important to have an AI that is honest and fair.  \n",
    "\n",
    "### Hack 3\n",
    "\n",
    "- **AI Example:** Amazon’s hiring AI  \n",
    "- **What Happened:** It was made to pick the best job candidates, but it unfairly favored men over women. The AI was trained on past data, which mostly had male applicants, making it biased.  \n",
    "- **Response:** Amazon stopped using the AI for hiring because of the unfairness.  \n",
    "- **Prevention:** Developers should have tested the AI with more balanced data before using it for real hiring.  \n",
    "\n"
   ]
  }
 ],
 "metadata": {
  "language_info": {
   "name": "python"
  },
  "orig_nbformat": 4
 },
 "nbformat": 4,
 "nbformat_minor": 2
}
