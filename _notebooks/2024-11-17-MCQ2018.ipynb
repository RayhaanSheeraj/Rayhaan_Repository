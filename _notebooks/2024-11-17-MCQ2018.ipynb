{
 "cells": [
  {
   "cell_type": "raw",
   "metadata": {
    "vscode": {
     "languageId": "raw"
    }
   },
   "source": [
    "---\n",
    "layout: post\n",
    "title: 2018 Practice Exam MCQ Test Corrections\n",
    "description: Revisions to the 2018 Practice Exam MCQ Test\n",
    "permalink: /2018-practice-exam-mcq-test-corrections/\n",
    "---"
   ]
  },
  {
   "cell_type": "markdown",
   "metadata": {},
   "source": [
    "## What did I learn from this quiz?\n",
    "Some topics I mastered from this quiz were Creative Development and Computing Systems and Networks which I got 100% in. While some topics I learned more about was Data and Impact of Computing. In these two catogories I got 94% and 91% respectively. I think this MCQ helped get a good understanding of what the AP CSP would be.\n",
    "\n",
    "## What questions where you weak on?\n",
    "The main topic I was weak on was Algorithms and programmng where I got an 82%. Another thing I struggled with was that I wasn't too familiar with most of the vocab words in the quiz such as citizen science and many more. To work on these topics I plan to learn new vocab about computer science, and also do more practice mc questions to get stronger in these topics. Addtionaly I hope to do more practice to get faster on the MCQ questions to prepare for the AP Exam. I think I should look at more codes and try to find the errors with them. \n",
    "\n",
    "## Questions I got wrong:\n",
    "\n",
    "### Q14 Comparing loop algorithms\n",
    " - The option I selected is D but looking back at this question I realized the answer is C because both programs display 10 values.\n",
    " -  Program A display 1,2,3,4,5,6,7,8,9,10 and Program B displays 2,3,4,5,6,7,8,9,10,11. So while the don't display the exact same values, they both display 10 different values.\n",
    "\n",
    "### Q22 Procedure to determine the weather \n",
    " - The option I selected was D but this option would always evaultuate to true because the total will always be greater than 50% of the counter variable.\n",
    " -  Instead of the counter being multiplied by .5 the total should be multipled and if its less than the counter then the Boolean value is true. \n",
    "\n",
    "### Q29 Diagram with three logic gates\n",
    " - The option I choose was D which was incorrect because with the inputs given, the AND gate would give an output of false and the or gate would give an output of true. \n",
    " - This would cause the second OR gate to give an output of true which is not desired. \n",
    " - Instead A was the rigth option because this option will cause the ouput of the AND gate to produce an ouput of false and the OR gate to produce the output of false. - Since both outputs are flase the final OR gate would give an output of false.\n",
    "\n",
    "### Q30 Video-streaming service by genre\n",
    " - The answer I chose was A because I assumed the function Analysis was only called once\n",
    " - However, the function Analysis is called once at the start and another 4 times inside the loop so it would take a total of 5 hours because each Analysis takes one hour.\n",
    "\n",
    "### Q42 Increasing bit representation for internet protocol\n",
    " - The answer I chose was A but the IPv6 has 2^96 times as many possible adress compared to IPv4.  \n",
    " - IPv4 is 32 bit it has 2^32 possible adresses and IPv^ is 128 bit, it has 2^128 possible adresses so IPv6 has 2^96 times as many possible adresses.\n",
    "\n",
    "### Q43 Runtime of algorithm for online retailer\n",
    " - The option I selected was B because I thought the alogrithm would eventually take longer and longer\n",
    " - The algorithm is a polynomial so the algorithm runs in a resonable amount of time, so option A is correct\n",
    "\n",
    "### Q47 Encrypti ng and decrypting using public key cryptography\n",
    " - The option I chose is C because I thought the recipient key could be used to decrypt the message\n",
    " - The option that is correct is D, the recipient's private key\n",
    " - In public key crypography a message is encrypted with a recipient's public key and decrypted using the recipient's private key\n",
    "\n",
    "### Q54 Abstraction with procedures Square and Cube\n",
    " - The option I chose was B because I thought the pattent would continue and it was the most accuracte generalization of the procedures described above\n",
    " - The option D is correct because the procedures square and cube are used to determine the power of n. \n",
    " - This is generalized by using Power(n,m) which will give the value n^m\n",
    "\n",
    "\n",
    "\n",
    "\n"
   ]
  }
 ],
 "metadata": {
  "language_info": {
   "name": "python"
  },
  "orig_nbformat": 4
 },
 "nbformat": 4,
 "nbformat_minor": 2
}
