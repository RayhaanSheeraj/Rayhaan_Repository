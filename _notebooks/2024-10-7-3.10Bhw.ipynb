{
 "cells": [
  {
   "cell_type": "raw",
   "metadata": {
    "vscode": {
     "languageId": "raw"
    }
   },
   "source": [
    "---\n",
    "layout: post\n",
    "title: 3.10B HW\n",
    "description:  3.10 HW and Popcorn Hacks\n",
    "type: issues \n",
    "comments: true\n",
    "permalink: /3.10BHW/\n",
    "---"
   ]
  },
  {
   "cell_type": "code",
   "execution_count": null,
   "metadata": {
    "vscode": {
     "languageId": "javascript"
    }
   },
   "outputs": [],
   "source": [
    "// Javascript Popcorn Hack 1\n",
    "\n",
    "let fruits = [\"Banana\", \"Orange\", \"Apple\", \"Mango\"];\n",
    "fruits.reverse();\n",
    "console.log(fruits);"
   ]
  },
  {
   "cell_type": "code",
   "execution_count": null,
   "metadata": {
    "vscode": {
     "languageId": "javascript"
    }
   },
   "outputs": [],
   "source": [
    "// Javascript Popcorn Hack 2\n",
    "let fruits = [\"Banana\", \"Orange\", \"Apple\", \"Mango\"];\n",
    "let more_fruits = [\"Pineapple\", \"Grapes\", \"Strawberry\"];\n",
    "fruits.push(...more_fruits);\n"
   ]
  },
  {
   "cell_type": "code",
   "execution_count": null,
   "metadata": {
    "vscode": {
     "languageId": "javascript"
    }
   },
   "outputs": [],
   "source": [
    "// Javascript Popcorn Hack 3\n",
    "let fruits = [\"Banana\", \"Orange\", \"Apple\", \"Mango\"];\n",
    "let longNameCount = fruits.filter(fruit => fruit.length > 6).length; // Output: 2 "
   ]
  },
  {
   "cell_type": "code",
   "execution_count": null,
   "metadata": {
    "vscode": {
     "languageId": "javascript"
    }
   },
   "outputs": [],
   "source": [
    "// Javascript Homework Hack 1\n",
    "let sports = [\"Football\", \"Basketball\", \"Tennis\", \"Cricket\", \"Soccer\"];\n",
    "console.log(\"Original Array,\", sports);\n",
    "\n",
    "let reversedSports = sports.reverse();\n",
    "console.log(\"Reversed Array,\", reversedSports);\n"
   ]
  },
  {
   "cell_type": "code",
   "execution_count": null,
   "metadata": {
    "vscode": {
     "languageId": "javascript"
    }
   },
   "outputs": [],
   "source": [
    "// Javascript Homework Hack 2\n",
    "let sports = [\"soccer\", \"football\", \"basketball\", \"wrestling\", \"swimming\"];\n",
    "\n",
    "console.log(sports[0]); // Output: soccer\n",
    "console.log(sports[3]); // Output: basketball"
   ]
  },
  {
   "cell_type": "code",
   "execution_count": null,
   "metadata": {
    "vscode": {
     "languageId": "javascript"
    }
   },
   "outputs": [],
   "source": [
    "// Javascript Homework Hack 3\n",
    "let choresList = [\"dishes\", \"laundry\", \"vacuum\", \"trash\"];\n",
    "console.log(\"Initial Chores,\", choresList);\n",
    "\n",
    "choresList.push(...[\"cleaning room\", \"mopping\", \"watering plants\"]); // Spread operator to add multiple items\n",
    "console.log(\"Chores after adding,\", choresList);\n",
    "\n",
    "choresList.shift(); // Removes first item from the list\n",
    "console.log(\"Chores after removing,\", choresList);\n",
    "\n",
    "choresList.pop(); // Removes last item from the list\n",
    "console.log(\"Chores after removing,\", choresList);\n",
    "\n",
    "choresList.unshift(\"wiping windows\"); // Adds item to the beginning of the list\n",
    "console.log(\"Chores after adding,\", choresList);\n",
    "\n",
    "\n"
   ]
  },
  {
   "cell_type": "code",
   "execution_count": null,
   "metadata": {
    "vscode": {
     "languageId": "javascript"
    }
   },
   "outputs": [],
   "source": [
    "// Javascript Homework Hack 4\n",
    "let numbers = [1, 2, 3, 4, 5, 6, 7, 8, 9, 10];\n",
    "\n",
    "function NumberofEven(numbers) {\n",
    "    let count = 0;\n",
    "    for (let i = 0; i < numbers.length; i++) {\n",
    "        if (numbers[i] % 2 === 0) { \n",
    "            count++;\n",
    "        }\n",
    "    }\n",
    "    return count; \n",
    "}\n",
    "let evenCount = NumberofEven(numbers);\n",
    "console.log(\"Number of even numbers: \" + evenCount); \n",
    "\n"
   ]
  },
  {
   "cell_type": "code",
   "execution_count": 11,
   "metadata": {},
   "outputs": [
    {
     "name": "stdout",
     "output_type": "stream",
     "text": [
      "['apple', 'banana', 'cherry', 'mango', 'watermelon', 'orange', 'grape']\n"
     ]
    }
   ],
   "source": [
    "# Python Popcorn Hack 1\n",
    "\n",
    "fruits = ['apple', 'banana', 'cherry', 'mango', 'grape']\n",
    "\n",
    "fruits.insert(4, 'orange')\n",
    "fruits.insert(-2, 'watermelon')\n",
    "\n",
    "print(fruits)"
   ]
  },
  {
   "cell_type": "code",
   "execution_count": 12,
   "metadata": {},
   "outputs": [
    {
     "name": "stdout",
     "output_type": "stream",
     "text": [
      "['football', 'basketball', 'cricket', 'tennis', 'hockey', 'golf', 'baseball', 'volleyball', 'badminton']\n"
     ]
    }
   ],
   "source": [
    "# Popcorn Hack 2\n",
    "\n",
    "sports = ['football', 'basketball', 'cricket', 'tennis', 'hockey']\n",
    "more_sports = ['golf', 'baseball', 'volleyball', 'badminton']\n",
    "\n",
    "sports.extend(more_sports)\n",
    "\n",
    "print(sports)"
   ]
  },
  {
   "cell_type": "code",
   "execution_count": 13,
   "metadata": {},
   "outputs": [
    {
     "name": "stdout",
     "output_type": "stream",
     "text": [
      "['football', 'basketball', 'tennis', 'hockey']\n"
     ]
    }
   ],
   "source": [
    "# Popcorn Hack 3\n",
    "\n",
    "sports = ['football', 'basketball', 'cricket', 'tennis', 'hockey']\n",
    "del sports[2]\n",
    "\n",
    "print(sports)"
   ]
  },
  {
   "cell_type": "code",
   "execution_count": 14,
   "metadata": {},
   "outputs": [
    {
     "name": "stdout",
     "output_type": "stream",
     "text": [
      "['eggs', 'milk', 'cheese']\n",
      "['cheese', 'eggs', 'milk']\n",
      "New grocery list ['eggs', 'milk']\n"
     ]
    }
   ],
   "source": [
    "# Python Homework Hack 1\n",
    "\n",
    "grocery_list = []\n",
    "\n",
    "for i in range(3):\n",
    "    grocery_list.append(input('Enter grocery item: '))\n",
    "print(grocery_list)\n",
    "\n",
    "grocery_list.sort()\n",
    "print(grocery_list)\n",
    "\n",
    "remove_item = input('Enter item to remove: ')\n",
    "if remove_item in grocery_list:\n",
    "    grocery_list.remove(remove_item)\n",
    "    print(\"New grocery list\", grocery_list)\n",
    "else:\n",
    "    print(\"Item not found in list\")\n"
   ]
  },
  {
   "cell_type": "code",
   "execution_count": 15,
   "metadata": {},
   "outputs": [
    {
     "name": "stdout",
     "output_type": "stream",
     "text": [
      "Original List [1, 2, 3, 4, 5, 6, 7, 8, 9, 10, 11, 12, 13, 14, 15, 16, 17, 18, 19, 20]\n",
      "Even Numbers Only List [2, 4, 6, 8, 10, 12, 14, 16, 18, 20]\n"
     ]
    }
   ],
   "source": [
    "# Python Homework Hack 2\n",
    "\n",
    "numbers = [1, 2, 3, 4, 5, 6, 7, 8, 9, 10, 11, 12, 13, 14, 15, 16, 17, 18, 19, 20]\n",
    "print(\"Original List\", numbers)\n",
    "\n",
    "evenNumbers = [i for i in numbers if i % 2 == 0]\n",
    "print(\"Even Numbers Only List\", evenNumbers)"
   ]
  },
  {
   "cell_type": "code",
   "execution_count": 16,
   "metadata": {},
   "outputs": [
    {
     "name": "stdout",
     "output_type": "stream",
     "text": [
      "Grades: [50, 97, 2]\n",
      "Passing Grades: [97]\n"
     ]
    }
   ],
   "source": [
    "# Python Homework Hack 3\n",
    "\n",
    "grades =[]\n",
    "\n",
    "for i in range(3):\n",
    "    grades.append(int(input('Enter grade: ')))\n",
    "print(\"Grades:\", grades)\n",
    "\n",
    "passing_grades = [i for i in grades if i > 60]\n",
    "print(\"Passing Grades:\", passing_grades)\n"
   ]
  },
  {
   "cell_type": "code",
   "execution_count": 17,
   "metadata": {},
   "outputs": [
    {
     "name": "stdout",
     "output_type": "stream",
     "text": [
      "Original List [1, 2, 3, 4, 5, 6, 7, 8, 9, 10]\n",
      "Sorted List in Descending Order [10, 9, 8, 7, 6, 5, 4, 3, 2, 1]\n",
      "First Five Numbers in the list are: [10, 9, 8, 7, 6]\n",
      "Sorted List in Ascending Order [1, 2, 3, 4, 5, 6, 7, 8, 9, 10]\n"
     ]
    }
   ],
   "source": [
    "# Python Homework Hack 4\n",
    "\n",
    "numbers = [1, 2, 3, 4, 5, 6, 7, 8, 9, 10]\n",
    "print(\"Original List\", numbers)\n",
    "\n",
    "numbers.sort(reverse=True)\n",
    "print(\"Sorted List in Descending Order\", numbers)\n",
    "\n",
    "first_five_numbers = numbers[:5]\n",
    "print(\"First Five Numbers in the list are:\", first_five_numbers)\n",
    "\n",
    "numbers.sort()\n",
    "print(\"Sorted List in Ascending Order\", numbers)\n"
   ]
  }
 ],
 "metadata": {
  "kernelspec": {
   "display_name": "Python 3",
   "language": "python",
   "name": "python3"
  },
  "language_info": {
   "codemirror_mode": {
    "name": "ipython",
    "version": 3
   },
   "file_extension": ".py",
   "mimetype": "text/x-python",
   "name": "python",
   "nbconvert_exporter": "python",
   "pygments_lexer": "ipython3",
   "version": "3.10.12"
  }
 },
 "nbformat": 4,
 "nbformat_minor": 2
}
