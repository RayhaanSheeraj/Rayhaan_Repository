{
 "cells": [
  {
   "cell_type": "raw",
   "metadata": {
    "vscode": {
     "languageId": "raw"
    }
   },
   "source": [
    "---\n",
    "layout: post\n",
    "title: Tri 2 Reflection\n",
    "description: Reflection about tri 2 and the future\n",
    "categories: [Reflection]\n",
    "permalink: /Tri2Reflection/\n",
    "type: collab\n",
    "comments: true\n",
    "---"
   ]
  },
  {
   "cell_type": "markdown",
   "metadata": {},
   "source": [
    "Comments\n",
    "Here you can comment about my website and I can use the feedback to further improve my website"
   ]
  },
  {
   "cell_type": "markdown",
   "metadata": {},
   "source": [
    "## Computer Science Growth & Future Plans  \n",
    "\n",
    "### Future Goals:  \n",
    "- **Continue Studying Computer Science**   \n",
    "  - Will take **AP Computer Science A (AP CSA)** to strengthen my understanding of Java, object-oriented programming, and data structures.  \n",
    "\n",
    "- **Expand Knowledge Beyond the Classroom**  \n",
    "  - Work on personal projects to apply what I’ve learned.  \n",
    "\n",
    "### Growth Over the Trimester:  \n",
    "- **Started with Limited Backend Knowledge**  \n",
    "  - At the beginning of the trimester, I struggled with backend development.  \n",
    "  - Gradually learned how to work with databases, APIs, CRUD\n",
    "  - Eventually, I even learned how to **deploy a website**, which was a big milestone for me.  \n",
    "\n",
    "### Strengths & Weaknesses:  \n",
    "- **Strengths:**  \n",
    "  - Strong problem-solving skills when tackling new challenges.  \n",
    "  - Willingness to **learn independently** and research solutions.  \n",
    "  - Improved ability to **break down complex coding problems** into manageable steps.  \n",
    "\n",
    "- **Weaknesses:**   \n",
    "  - **Collabaration**: I could have helped group members more who were struggling once I was done with my feature. \n",
    "  - **Debugging Patience**: I sometimes struggle when fixing bugs   \n",
    "\n",
    "### Moving Forward:  \n",
    "- Continue improving collaboration skills by giving feedback in group projects.  \n",
    "- Work on managing time better by setting specific goals for each coding session.  \n",
    "- Strengthen debugging skills by using structured troubleshooting techniques.  \n"
   ]
  }
 ],
 "metadata": {
  "language_info": {
   "name": "python"
  },
  "orig_nbformat": 4
 },
 "nbformat": 4,
 "nbformat_minor": 2
}
