{
 "cells": [
  {
   "cell_type": "raw",
   "metadata": {
    "vscode": {
     "languageId": "raw"
    }
   },
   "source": [
    "---\n",
    "layout: post\n",
    "title: Legal and Ethical Concerns\n",
    "description: Legal and Ethical Concerns Hacks\n",
    "categories: [Collaboration]\n",
    "permalink: /Legal&EthicalConcerns/\n",
    "type: collab\n",
    "comments: true\n",
    "---"
   ]
  },
  {
   "cell_type": "markdown",
   "metadata": {},
   "source": []
  },
  {
   "cell_type": "markdown",
   "metadata": {},
   "source": [
    "## Popcorn Hacks\n",
    "\n",
    "### Popcorn Hack 1\n",
    "\n",
    "**Ways to Protect Intellectual Property:**\n",
    "\n",
    "1. **Copyright**  \n",
    "2. **Patents** \n",
    "3. **Trademarks**  \n",
    "4. **Licenses**\n",
    "\n",
    "### Popcorn Hack 2\n",
    "\n",
    "**MIT License:**  \n",
    "- Open-source license.  \n",
    "- Allows use, copy, modify, and share.  \n",
    "- Must include original license and credit.  \n",
    "- Simple and widely used.  \n",
    "\n",
    "[Apache License Personal Repo](https://github.com/RayhaanSheeraj/Rayhaan_Repository?tab=Apache-2.0-1-ov-file)\n",
    "Scroll down to see the License \n",
    "\n",
    "### Popcorn Hack 3\n",
    "\n",
    "**Creative Commons License:**  \n",
    "- Lets creators share work with rules they choose.  \n",
    "- Can allow free use, but with credit.  \n",
    "- Options include no changes or no commercial use.  \n",
    "\n",
    "**Exceptions to Copyright Law:**  \n",
    "- **Fair Use:** Using small parts for education, news, or reviews.  \n",
    "- **Public Domain:** Works no longer protected by copyright.  \n",
    "- **Parody:** Using the work for fun without the intention of harm.   \n",
    "\n",
    "\n",
    "## Homework Hacks\n",
    "\n",
    "## Homework Hack: Choosing a License for Personal Repo\n",
    "\n",
    "#### Task 1 \n",
    "\n",
    "Apache License (A permissive license whose main conditions require preservation of copyright and license notices. )\n",
    "\n",
    "### Task 2: \n",
    "\n",
    "I chose the Apache License because it allows others to use, modify, and share my code while protecting my work with copyright. This is helpful for a school project because it encourages learning and collaboration. It also ensures that anyone using my code gives proper credit and follows the rules of the license.\n",
    "\n",
    "### Task 3\n",
    "\n",
    "[Personal Repository License](https://github.com/RayhaanSheeraj/Rayhaan_Repository/blob/main/LICENSE)\n",
    "\n",
    "### Task 4\n",
    "\n",
    "SD IMOP is a platform made for city infrastructure managers and developers. It helps find and fix problems in city infrastructure early, before they become serious and dangerous. This approach focuses on preventing big issues by solving them ahead of time.\n",
    "\n",
    "### Task 5\n",
    "\n",
    "[Pilot City Repository License](https://github.com/adik1025/imop_frontend/blob/main/LICENSE)\n",
    "\n",
    "The Pilot City Repository uses the Apache License, which is a great choice because it allows others to freely use, modify, and share the code while protecting the original creators with copyright. This license is especially good for collaborative projects like SD IMOP because it allows  teamwork and innovation while ensuring  credit is given. "
   ]
  }
 ],
 "metadata": {
  "language_info": {
   "name": "python"
  },
  "orig_nbformat": 4
 },
 "nbformat": 4,
 "nbformat_minor": 2
}
