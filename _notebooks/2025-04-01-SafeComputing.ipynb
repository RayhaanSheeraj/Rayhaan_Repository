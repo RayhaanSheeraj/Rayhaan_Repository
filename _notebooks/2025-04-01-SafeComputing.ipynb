{
 "cells": [
  {
   "cell_type": "raw",
   "metadata": {
    "vscode": {
     "languageId": "raw"
    }
   },
   "source": [
    "---\n",
    "layout: post\n",
    "title: Safe Computing \n",
    "description: Safe Computing Hacks\n",
    "categories: [Tri 3 Team Teach Hacks]\n",
    "permalink: /SafeComputing/\n",
    "type: collab\n",
    "comments: true\n",
    "---"
   ]
  },
  {
   "cell_type": "markdown",
   "metadata": {},
   "source": []
  },
  {
   "cell_type": "markdown",
   "metadata": {},
   "source": [
    "## Popcorn Hacks\n",
    "\n",
    "### Pop Quiz 1\n",
    "\n",
    "A fingerprint is a type of PII. (A)\n",
    "\n",
    "### Pop Quiz 2\n",
    "\n",
    "Option A and Option D\n",
    "\n",
    "### Popcorn Hack 1\n",
    "\n",
    "B\n",
    "\n",
    "### Popcorn Hack 2\n",
    "\n",
    "Skibidisigma@786#11\n",
    "\n",
    "My password is strong because:\n",
    "1. It includes a mix of uppercase and lowercase letters.  \n",
    "2. It has numbers and special characters.  \n",
    "3. It is long and not easily guessable.  "
   ]
  }
 ],
 "metadata": {
  "language_info": {
   "name": "python"
  },
  "orig_nbformat": 4
 },
 "nbformat": 4,
 "nbformat_minor": 2
}
