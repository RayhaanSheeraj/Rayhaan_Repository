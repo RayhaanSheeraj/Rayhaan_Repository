{
 "cells": [
  {
   "cell_type": "raw",
   "metadata": {
    "vscode": {
     "languageId": "raw"
    }
   },
   "source": [
    "---\n",
    "layout: post\n",
    "title: 3.2 HW\n",
    "description:  3.2 HW and Popcorn Hacks\n",
    "type: issues \n",
    "comments: true\n",
    "\n",
    "---"
   ]
  },
  {
   "cell_type": "code",
   "execution_count": 1,
   "metadata": {},
   "outputs": [
    {
     "name": "stdout",
     "output_type": "stream",
     "text": [
      "Initial Set:  {1, 2, 3, 4, 5}\n",
      "Set after adding 6:  {1, 2, 3, 4, 5, 6}\n",
      "Set after removing 2:  {1, 3, 4, 5, 6}\n",
      "Union of Set with {7, 8, 9}:  {1, 3, 4, 5, 6, 7, 8, 9}\n",
      "Set after clearing:  set()\n",
      "Bonus Set:  {1, 2, 3, 4}\n",
      "Length of Bonus Set:  4\n"
     ]
    }
   ],
   "source": [
    "# Popcorn Hack 1\n",
    "num_set = {1, 2, 3, 4, 5}\n",
    "print(\"Initial Set: \", num_set)\n",
    "\n",
    "num_set.add(6)\n",
    "print(\"Set after adding 6: \", num_set)\n",
    "\n",
    "num_set.remove(2)\n",
    "print(\"Set after removing 2: \", num_set)\n",
    "\n",
    "union_set = num_set.union({7, 8, 9})\n",
    "print(\"Union of Set with {7, 8, 9}: \", union_set)\n",
    "\n",
    "num_set.clear()\n",
    "print(\"Set after clearing: \", num_set)\n",
    "\n",
    "#Bonus\n",
    "bonus_set = {1,2,2,3,3,4}\n",
    "print(\"Bonus Set: \", bonus_set)\n",
    "print(\"Length of Bonus Set: \", len(bonus_set))"
   ]
  },
  {
   "cell_type": "code",
   "execution_count": 2,
   "metadata": {},
   "outputs": [
    {
     "name": "stdout",
     "output_type": "stream",
     "text": [
      "Initial String:  Learning Python is not fun\n",
      "Length of String:  26\n",
      "Python Substring:  Python\n",
      "uppercase string:  LEARNING PYTHON IS NOT FUN\n",
      "String after replacing 'fun' with 'good':  Learning Python is not good\n",
      "reversed string:  nuf ton si nohtyP gninraeL\n"
     ]
    }
   ],
   "source": [
    "# Popcorn Hack 2\n",
    "\n",
    "string = \"Learning Python is not fun\"\n",
    "print(\"Initial String: \", string)\n",
    "print(\"Length of String: \", len(string))\n",
    "\n",
    "python_substring = string[9:15] #Slicing Pything from the string\n",
    "print(\"Python Substring: \", python_substring)\n",
    "\n",
    "print(\"uppercase string: \", string.upper())\n",
    "\n",
    "new_string = string.replace(\"fun\", \"good\")\n",
    "print(\"String after replacing 'fun' with 'good': \", new_string)\n",
    "\n",
    "#Bonus\n",
    "print(\"reversed string: \", string[::-1])"
   ]
  },
  {
   "cell_type": "code",
   "execution_count": 3,
   "metadata": {},
   "outputs": [
    {
     "name": "stdout",
     "output_type": "stream",
     "text": [
      "Original list: [3, 5, 7, 9, 11]\n",
      "Third element: 7\n",
      "List after modifying the second element: [3, 6, 7, 9, 11]\n",
      "List after appending 13: [3, 6, 7, 9, 11, 13]\n",
      "List after removing 9: [3, 6, 7, 11, 13]\n",
      "List sorted in descending order: [13, 11, 7, 6, 3]\n"
     ]
    }
   ],
   "source": [
    "# Popcorn Hack 3\n",
    "\n",
    "numbers = [3, 5, 7, 9, 11]\n",
    "print(\"Original list:\", numbers)\n",
    "\n",
    "print(\"Third element:\", numbers[2])\n",
    "\n",
    "numbers[1] = 6\n",
    "print(\"List after modifying the second element:\", numbers)\n",
    "\n",
    "numbers.append(13)\n",
    "print(\"List after appending 13:\", numbers)\n",
    "\n",
    "numbers.remove(9)\n",
    "print(\"List after removing 9:\", numbers)\n",
    "\n",
    "# Bonus\n",
    "numbers.sort(reverse=True)\n",
    "print(\"List sorted in descending order:\", numbers)"
   ]
  },
  {
   "cell_type": "code",
   "execution_count": 4,
   "metadata": {},
   "outputs": [
    {
     "name": "stdout",
     "output_type": "stream",
     "text": [
      "Personal Info Dictionary: {'name': 'Rayhaan', 'email': 'totallyreal@email.com', 'phone number': '123-456-7899'}\n",
      "My Name is: Rayhaan\n",
      "Length of the dictionary: 3\n",
      "Type of the dictionary: <class 'dict'>\n",
      "New Info Dictionary: {'name': 'Bob', 'email': 'hellooo@gmail.com', 'phone number': '111-111-1111'}\n",
      "New Name is: Bob\n",
      "New Email is: hellooo@gmail.com\n",
      "New Phone Number is: 111-111-1111\n",
      "Length of the new dictionary: 3\n",
      "Type of the new dictionary: <class 'dict'>\n"
     ]
    }
   ],
   "source": [
    "# Popcorn Hack 4\n",
    "\n",
    "\n",
    "personal_info = {\n",
    "    \"name\": \"Rayhaan\",\n",
    "    \"email\": \"totallyreal@email.com\",\n",
    "    \"phone number\": \"123-456-7899\"\n",
    "}\n",
    "print(\"Personal Info Dictionary:\", personal_info)\n",
    "\n",
    "print(\"My Name is:\", personal_info[\"name\"])\n",
    "\n",
    "print(\"Length of the dictionary:\", len(personal_info))\n",
    "\n",
    "print(\"Type of the dictionary:\", type(personal_info))\n",
    "\n",
    "# Bonus\n",
    "new_info = {\n",
    "    \"name\": \"Bob\",\n",
    "    \"email\": \"hellooo@gmail.com\",\n",
    "    \"phone number\": \"111-111-1111\"\n",
    "}\n",
    "\n",
    "print(\"New Info Dictionary:\", new_info)\n",
    "print(\"New Name is:\", new_info[\"name\"])\n",
    "print(\"New Email is:\", new_info[\"email\"])\n",
    "print(\"New Phone Number is:\", new_info[\"phone number\"])\n",
    "\n",
    "print(\"Length of the new dictionary:\", len(new_info))\n",
    "print(\"Type of the new dictionary:\", type(new_info))\n"
   ]
  },
  {
   "cell_type": "code",
   "execution_count": 5,
   "metadata": {},
   "outputs": [
    {
     "name": "stdout",
     "output_type": "stream",
     "text": [
      "Personal Info: {'full_name': 'Rayhaan Sheeraj', 'years': 15, 'location': 'San Diego', 'favorite_food': 'pizza'}\n",
      "Activities: ['Coding', 'Sleeping', 'Gaming']\n",
      "Personal Info with Activities: {'full_name': 'Rayhaan Sheeraj', 'years': 15, 'location': 'San Diego', 'favorite_food': 'pizza', 'activities': ['Coding', 'Sleeping', 'Gaming']}\n",
      "Which activities are availabe today: {'Coding': True, 'Sleeping': True, 'Gaming': False}\n",
      "I have 3 activities.\n",
      "My Favorite Activities: ('Gaming', 'Sleeping')\n",
      "Skills: {'Playing Brawl Stars', 'Gaming', 'Coding'}\n",
      "None\n",
      "The total cost to pursue all activities and develop all skills is: $45.00\n"
     ]
    }
   ],
   "source": [
    "# Homework Hack Python\n",
    "\n",
    "#Part 1\n",
    "personal_info = { \"full_name\": \"Rayhaan Sheeraj\", \"years\": 15, \"location\": \"San Diego\", \"favorite_food\": \"pizza\" }\n",
    "print(\"Personal Info:\", personal_info)\n",
    "\n",
    "#Part 2\n",
    "favorite_activities = [\"Coding\", \"Sleeping\", \"Gaming\"]\n",
    "print(\"Activities:\", favorite_activities)\n",
    "\n",
    "#Part 3\n",
    "personal_info[\"activities\"] = favorite_activities\n",
    "print(\"Personal Info with Activities:\", personal_info)\n",
    "\n",
    "#Part 4\n",
    "activity_availability = { \"Coding\": True, \"Sleeping\": True, \"Gaming\": False }\n",
    "print(\"Which activities are availabe today:\", activity_availability)\n",
    "\n",
    "\n",
    "#Part 5\n",
    "total_activities = len(favorite_activities) \n",
    "print(f\"I have {total_activities} activities.\")\n",
    "\n",
    "#Part 6\n",
    "most_favorite_activities = (\"Gaming\", \"Sleeping\")\n",
    "print(\"My Favorite Activities:\", most_favorite_activities)\n",
    "\n",
    "#Part 7\n",
    "skills = {\"Coding\", \"Gaming\", \"Playing Brawl Stars\"}\n",
    "print(\"Skills:\", skills)\n",
    "\n",
    "#Part 8\n",
    "new_skill = None \n",
    "print(new_skill)\n",
    "\n",
    "#Part 9\n",
    "activity_cost = 5.0\n",
    "skill_cost = 10.0\n",
    "total_cost = (total_activities * activity_cost) + (len(skills) * skill_cost)\n",
    "print(f\"The total cost to pursue all activities and develop all skills is: ${total_cost:.2f}\")\n"
   ]
  },
  {
   "cell_type": "code",
   "execution_count": null,
   "metadata": {
    "vscode": {
     "languageId": "javascript"
    }
   },
   "outputs": [],
   "source": [
    "// Javascript Popcorn Hack 1\n",
    "let Set1 = new Set([1, 2, 3, 4, 5]);\n",
    "console.log(\"Set1: \", Set1);\n",
    "\n",
    "let Set2 = new Set([4, 5, 6, 7, 8]);\n",
    "console.log(\"Set2: \", Set2);\n",
    "\n",
    "Set1.add(21);\n",
    "console.log(\"Set1 after adding 21: \", Set1);\n",
    "\n",
    "Set1.delete(1);\n",
    "console.log(\"Set1 after deleting 1: \", Set1);\n",
    "\n",
    "let unionSet = new Set([...Set1, ...Set2]);\n",
    "console.log(\"Union of Set1 and Set2: \", unionSet);"
   ]
  },
  {
   "cell_type": "code",
   "execution_count": null,
   "metadata": {
    "vscode": {
     "languageId": "javascript"
    }
   },
   "outputs": [],
   "source": [
    "// Javascript Popcorn Hack 2\n",
    "\n",
    "let application = {\n",
    "    name: \"Joe\",\n",
    "    age: 2,\n",
    "    experiences: [\"Brawl Stars Esports\", \"Clash Royale Esports\", \"Clash of Clans Esports\"],\n",
    "    money: 10000000\n",
    "};\n",
    "console.log(\"Application: \", application);\n",
    "console.log(\"Money: \", application.money);"
   ]
  },
  {
   "cell_type": "code",
   "execution_count": null,
   "metadata": {
    "vscode": {
     "languageId": "javascript"
    }
   },
   "outputs": [],
   "source": [
    "// Javascript Homework 1\n",
    "\n",
    "function createApplication() {\n",
    "    let application = {};\n",
    "\n",
    "    application.name = prompt(\"What is your name?\");\n",
    "    application.age = prompt(\"What is your age?\");\n",
    "    let experiences = prompt(\"List your experiences (separated by commas):\");\n",
    "    application.experiences = experiences.split(\",\");\n",
    "\n",
    "    console.log(\"Applicant's Information:\", application);\n",
    "}\n",
    "\n",
    "createApplication();"
   ]
  }
 ],
 "metadata": {
  "kernelspec": {
   "display_name": "Python 3",
   "language": "python",
   "name": "python3"
  },
  "language_info": {
   "codemirror_mode": {
    "name": "ipython",
    "version": 3
   },
   "file_extension": ".py",
   "mimetype": "text/x-python",
   "name": "python",
   "nbconvert_exporter": "python",
   "pygments_lexer": "ipython3",
   "version": "3.10.12"
  }
 },
 "nbformat": 4,
 "nbformat_minor": 2
}
