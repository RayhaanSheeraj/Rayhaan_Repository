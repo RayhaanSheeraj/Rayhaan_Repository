{
 "cells": [
  {
   "cell_type": "raw",
   "metadata": {
    "vscode": {
     "languageId": "raw"
    }
   },
   "source": [
    "---\n",
    "layout: post\n",
    "title: Random Algorithms and Simulation Games Team Teach\n",
    "description: \n",
    "categories: [Tri 3 Team Teach Hacks]\n",
    "permalink: /RandomAlgo&SimuGames/\n",
    "type: collab\n",
    "comments: true\n",
    "---"
   ]
  },
  {
   "cell_type": "markdown",
   "metadata": {},
   "source": [
    "## Random Algorithm Popcorn hacks\n",
    "\n",
    "### Popcorn Hack 1\n",
    "\n",
    "## What is a random algorithm?\n",
    "A random algorithm is a set of steps that uses random choices.  \n",
    "It can give different results each time, even with the same input.\n",
    "\n",
    "## Why use random algorithms?\n",
    "- They can be used in games to change what happens each time.  \n",
    "- They can be used in simulations to act like real life.  \n",
    "- They help with security by making passwords or data harder to guess.  \n",
    "- They make things fair when picking people or items.  \n",
    "- They can help solve hard problems by trying different answers quickly.\n",
    "\n",
    "## What kind of question might the College Board ask?\n",
    "The College Board might ask what a random algorithm does, why it is used, or what its result could be.\n",
    "\n",
    "### Popcorn Hack 2\n"
   ]
  },
  {
   "cell_type": "code",
   "execution_count": 1,
   "metadata": {},
   "outputs": [
    {
     "name": "stdout",
     "output_type": "stream",
     "text": [
      "Today’s random activity: Go to sleep\n"
     ]
    }
   ],
   "source": [
    "import random\n",
    "# Step 1: Define a list of activities\n",
    "activities = ['Watch a TV Show', 'Read somethingk', 'Talk to a friend', 'Try cooking', 'Watch a movie', 'Go to sleep', 'Go to the gym', 'Write something', 'Bike', 'Listen to music', 'Play a video game','Do homework']\n",
    "random_activity = random.choice(activities)\n",
    "# Step 3: Display the chosen activity\n",
    "print(f\"Today’s random activity: {random_activity}\")"
   ]
  },
  {
   "cell_type": "markdown",
   "metadata": {},
   "source": [
    "### Popcorn hack 3"
   ]
  },
  {
   "cell_type": "code",
   "execution_count": 2,
   "metadata": {},
   "outputs": [
    {
     "name": "stdout",
     "output_type": "stream",
     "text": [
      "Rayhaan will be monitoring games!\n",
      "Gyutae will be monitoring decorations!\n",
      "Derek will be monitoring music!\n"
     ]
    }
   ],
   "source": [
    "import random\n",
    "# Step 1: Define the list of hosts and activities\n",
    "hosts = ['Rayhaan','Gyutae','Derek']\n",
    "activities = ['music', 'food', 'decorations', 'games', 'movies']\n",
    "# Step 2: Randomly shuffle the list of activities\n",
    "random.shuffle(activities)\n",
    "# Step 3: Loop through each host and assign them a random activity\n",
    "for i in range(len(hosts)):\n",
    "    print(f\"{hosts[i]} will be monitoring {activities[i]}!\")"
   ]
  },
  {
   "cell_type": "markdown",
   "metadata": {},
   "source": [
    "## Simulation Games Popcorn Hacks\n",
    "\n",
    "### Popcorn Hack 1"
   ]
  },
  {
   "cell_type": "code",
   "execution_count": 3,
   "metadata": {},
   "outputs": [
    {
     "name": "stdout",
     "output_type": "stream",
     "text": [
      "Spinner landed on: 1\n"
     ]
    }
   ],
   "source": [
    "import random\n",
    "\n",
    "def spin_number():\n",
    "    return random.randint(1, 10)\n",
    "\n",
    "spinner_result = spin_number()\n",
    "\n",
    "print(\"Spinner landed on:\", spinner_result)\n"
   ]
  },
  {
   "cell_type": "markdown",
   "metadata": {},
   "source": [
    "### Popcorn Hack 2\n",
    "\n"
   ]
  },
  {
   "cell_type": "code",
   "execution_count": 4,
   "metadata": {},
   "outputs": [
    {
     "name": "stdout",
     "output_type": "stream",
     "text": [
      "Computer chose: rock\n",
      "You chose: paper\n",
      "You win!\n"
     ]
    }
   ],
   "source": [
    "import random\n",
    "\n",
    "def play_rock_paper_scissors():\n",
    "    choices = ['rock', 'paper', 'scissors']\n",
    "    computer_choice = random.choice(choices)\n",
    "    user_choice = input(\"Enter your choice (rock, paper, or scissors): \")\n",
    "\n",
    "    if user_choice not in choices:\n",
    "        print(\"Invalid choice. Please try again.\")\n",
    "        return\n",
    "\n",
    "    print(\"Computer chose:\", computer_choice)\n",
    "    print(\"You chose:\", user_choice)\n",
    "\n",
    "    if user_choice == computer_choice:\n",
    "        print(\"It's a tie!\")\n",
    "    elif (user_choice == 'rock' and computer_choice == 'scissors') or (user_choice == 'paper' and computer_choice == 'rock') or (user_choice == 'scissors' and computer_choice == 'paper'):\n",
    "        print(\"You win!\")\n",
    "    else:\n",
    "        print(\"You lose!\")\n",
    "\n",
    "play_rock_paper_scissors()"
   ]
  },
  {
   "cell_type": "markdown",
   "metadata": {},
   "source": [
    "## MC Questions\n",
    "\n",
    "### Question 1\n",
    "C: 3 1 2 because 3 cannot be printed\n",
    "\n",
    "### Question 2\n",
    "D: RANDOM, open parenthesis 1 comma 100, close parenthesis, is less than or equal to 75; this makes the output have a 75% chance\n",
    "\n",
    "### Question 3\n",
    "C: Removing as many details from the model as possible so that calculations can be performed quickly; won't be accurate\n",
    "\n",
    "### Question 4\n",
    "D: The number of predators does not change from day to day; The predators don't change after the start\n"
   ]
  },
  {
   "cell_type": "markdown",
   "metadata": {},
   "source": [
    "## Homework Hacks\n",
    "\n",
    "### Homework Hack 1"
   ]
  },
  {
   "cell_type": "code",
   "execution_count": 16,
   "metadata": {},
   "outputs": [
    {
     "name": "stdout",
     "output_type": "stream",
     "text": [
      "Team El Primo: Rayhaan, Gyutae, Ansh, Playboy Carti, Ben, Anish, Jacob, Mr.Mortenson\n",
      "Team Poco : Adi, Joe, Alex, John\n",
      "Team Shelly: Aadi, Derek, Mihir\n"
     ]
    }
   ],
   "source": [
    "import random\n",
    "\n",
    "students = ['Aadi', 'Rayhaan', 'Gyutae', 'Derek', 'Adi', 'Ansh', 'Playboy Carti', 'Mihir', 'Joe','Alex','Ben','Anish', 'Jacob', 'Mr.Mortenson', 'John']\n",
    "teams = ['Team El Primo', 'Team Poco ', 'Team Shelly']\n",
    "\n",
    "team_assignments = {team: [] for team in teams}\n",
    "\n",
    "for student in students:\n",
    "    team = random.choice(teams)\n",
    "    team_assignments[team].append(student)\n",
    "\n",
    "for team, members in team_assignments.items():\n",
    "    print(team + \": \" + \", \".join(members))\n"
   ]
  },
  {
   "cell_type": "markdown",
   "metadata": {},
   "source": [
    "### Homework Hack 2\n"
   ]
  },
  {
   "cell_type": "code",
   "execution_count": 18,
   "metadata": {},
   "outputs": [
    {
     "name": "stdout",
     "output_type": "stream",
     "text": [
      "Day 1: Sunny\n",
      "Day 2: Sunny\n",
      "Day 3: Cloudy\n",
      "Day 4: Rainy\n",
      "Day 5: Rainy\n",
      "Day 6: Cloudy\n",
      "Day 7: Rainy\n"
     ]
    }
   ],
   "source": [
    "import random\n",
    "\n",
    "weather = ['Sunny', 'Cloudy', 'Rainy']\n",
    "forecast = []\n",
    "\n",
    "for i in range(7):\n",
    "    forecast.append(random.choice(weather))\n",
    "\n",
    "for i, day in enumerate(forecast, 1):\n",
    "    print(\"Day \" + str(i) + \": \" + day)\n",
    "\n"
   ]
  },
  {
   "cell_type": "markdown",
   "metadata": {},
   "source": [
    "### Homework Hack 3"
   ]
  },
  {
   "cell_type": "code",
   "execution_count": 19,
   "metadata": {},
   "outputs": [
    {
     "name": "stdout",
     "output_type": "stream",
     "text": [
      "Customer 1: 4 minutes\n",
      "Customer 2: 2 minutes\n",
      "Customer 3: 2 minutes\n",
      "Customer 4: 1 minutes\n",
      "Customer 5: 5 minutes\n",
      "Total time: 14 minutes\n"
     ]
    }
   ],
   "source": [
    "import random\n",
    "\n",
    "customers = 5\n",
    "service_times = [random.randint(1, 5) for _ in range(customers)]\n",
    "total_time = sum(service_times)\n",
    "\n",
    "for i, time in enumerate(service_times, 1):\n",
    "    print(\"Customer \" + str(i) + \": \" + str(time) + \" minutes\")\n",
    "\n",
    "print(\"Total time: \" + str(total_time) + \" minutes\")\n"
   ]
  }
 ],
 "metadata": {
  "kernelspec": {
   "display_name": "Python 3",
   "language": "python",
   "name": "python3"
  },
  "language_info": {
   "codemirror_mode": {
    "name": "ipython",
    "version": 3
   },
   "file_extension": ".py",
   "mimetype": "text/x-python",
   "name": "python",
   "nbconvert_exporter": "python",
   "pygments_lexer": "ipython3",
   "version": "3.10.12"
  },
  "orig_nbformat": 4
 },
 "nbformat": 4,
 "nbformat_minor": 2
}
