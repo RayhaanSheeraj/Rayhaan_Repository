{
 "cells": [
  {
   "cell_type": "code",
   "execution_count": null,
   "metadata": {},
   "outputs": [],
   "source": [
    "---\n",
    "toc: true\n",
    "comments: false\n",
    "layout: post\n",
    "title: BI 4.1 Internet - Web Server \n",
    "description: Quick launch into Flask, sending and receiving data from a web server.\n",
    "courses: { csp: {week: 14 } }\n",
    "type: ccc\n",
    "---"
   ]
  },
  {
   "cell_type": "markdown",
   "metadata": {},
   "source": [
    "## Introduction\n",
    "\n",
    "Welcome to this journey into the world of web servers and the Flask framework! In the previous weeks, you've successfully set up a web server using GitHub Pages, converting Jupyter Notebooks into Markdown for a seamless online presentation. Today, we'll take that knowledge to the next level as we dive into creating your very own web server using Flask.\n",
    "\n",
    "### Understanding Web Servers\n",
    "What is a Web Server?\n",
    "\n",
    "Traditionally, we had librarians at libraries that would help you find books or information. Today in the digital world, thousands upon thousands of home pages, search engines, and digital archives have been built using web servers.\n",
    "\n",
    "### GitHub Pages vs. Flask\n",
    "\n",
    "You've already experienced a form of web server through GitHub Pages. Think of GitHub Pages as a library that has established rules for publishing Markdown notes and Jupyter Notebooks neatly on a bookshelf.\n",
    "\n",
    "Now, let's introduce Flask, your personal web server. Flask can create and manage any type of content, including customizing everything according to your preferences, and even serve additional information (like a database with APIs).\n",
    "\n",
    "The Flask Framework\n",
    "Flask is a micro web framework written in Python. It's designed to be minimal and easy to use, making it perfect for building web applications, APIs, and, yes, even your web server. Today, we will start with the basics of Flask and see how it empowers you to create and manage web content."
   ]
  },
  {
   "attachments": {},
   "cell_type": "markdown",
   "metadata": {},
   "source": [
    "##  Our Goals for Today\n",
    "Here's what we'll accomplish in this session:\n",
    "\n",
    "- Create a minimal Flask server.\n",
    "- Explore the Python/Flask process.\n",
    "- Access data from our Flask server using Python.\n",
    "- Access data from our Flask server using JavaScript.\n",
    "- Learn how to stop the Python/Flask process gracefully.\n",
    "\n"
   ]
  },
  {
   "cell_type": "markdown",
   "metadata": {},
   "source": [
    "### Install required libraries\n",
    "These libraries are required to run and interact with the Python web server."
   ]
  },
  {
   "cell_type": "code",
   "execution_count": 1,
   "metadata": {},
   "outputs": [
    {
     "name": "stdout",
     "output_type": "stream",
     "text": [
      "Defaulting to user installation because normal site-packages is not writeable\n",
      "Collecting flask\n",
      "  Using cached flask-3.1.0-py3-none-any.whl (102 kB)\n",
      "Collecting flask-cors\n",
      "  Using cached Flask_Cors-5.0.0-py2.py3-none-any.whl (14 kB)\n",
      "Requirement already satisfied: requests in /home/rayhaan/.local/lib/python3.10/site-packages (2.32.3)\n",
      "Collecting Werkzeug>=3.1\n",
      "  Using cached werkzeug-3.1.3-py3-none-any.whl (224 kB)\n",
      "Requirement already satisfied: click>=8.1.3 in /home/rayhaan/.local/lib/python3.10/site-packages (from flask) (8.1.7)\n",
      "Collecting itsdangerous>=2.2\n",
      "  Using cached itsdangerous-2.2.0-py3-none-any.whl (16 kB)\n",
      "Collecting blinker>=1.9\n",
      "  Using cached blinker-1.9.0-py3-none-any.whl (8.5 kB)\n",
      "Collecting Jinja2>=3.1.2\n",
      "  Using cached jinja2-3.1.4-py3-none-any.whl (133 kB)\n",
      "Requirement already satisfied: charset-normalizer<4,>=2 in /home/rayhaan/.local/lib/python3.10/site-packages (from requests) (3.3.2)\n",
      "Requirement already satisfied: urllib3<3,>=1.21.1 in /home/rayhaan/.local/lib/python3.10/site-packages (from requests) (2.2.2)\n",
      "Requirement already satisfied: certifi>=2017.4.17 in /home/rayhaan/.local/lib/python3.10/site-packages (from requests) (2024.8.30)\n",
      "Requirement already satisfied: idna<4,>=2.5 in /home/rayhaan/.local/lib/python3.10/site-packages (from requests) (3.8)\n",
      "Requirement already satisfied: MarkupSafe>=2.0 in /usr/lib/python3/dist-packages (from Jinja2>=3.1.2->flask) (2.0.1)\n",
      "Collecting MarkupSafe>=2.0\n",
      "  Using cached MarkupSafe-3.0.2-cp310-cp310-manylinux_2_17_x86_64.manylinux2014_x86_64.whl (20 kB)\n",
      "Installing collected packages: MarkupSafe, itsdangerous, blinker, Werkzeug, Jinja2, flask, flask-cors\n",
      "Successfully installed Jinja2-3.1.4 MarkupSafe-3.0.2 Werkzeug-3.1.3 blinker-1.9.0 flask-3.1.0 flask-cors-5.0.0 itsdangerous-2.2.0\n"
     ]
    }
   ],
   "source": [
    "!pip install flask flask-cors requests"
   ]
  },
  {
   "cell_type": "markdown",
   "metadata": {},
   "source": [
    "### Start Web Server\n",
    "This Python code provides a simple server with an accessible API.\n",
    "\n",
    "Note: Jupyter magic commmand `%%python --bg` that follows runs the server in background.  This enables us to continue interacting with the subsequent Notebook cells."
   ]
  },
  {
   "cell_type": "code",
   "execution_count": null,
   "metadata": {},
   "outputs": [],
   "source": [
    "## %%python --bg\n",
    "\n",
    "from flask import Flask, jsonify\n",
    "from flask_cors import CORS\n",
    "\n",
    "# initialize a flask application (app)\n",
    "app = Flask(__name__)\n",
    "CORS(app, supports_credentials=True, origins='*')  # Allow all origins (*) #safety\n",
    "\n",
    "# ... your existing Flask\n",
    "\n",
    "# add an api endpoint to flask app\n",
    "@app.route('/api/rayhaan')\n",
    "def get_rayhaan():\n",
    "    # start a list, to be used like a information database\n",
    "    InfoDb = []\n",
    "\n",
    "    # add a row to list, an Info record\n",
    "    InfoDb.append({\n",
    "        \"FirstName\": \"Rayhaan\",\n",
    "        \"LastName\": \"Sheeraj\",\n",
    "        \"DOB\": \"July 24\",\n",
    "        \"Residence\": \"San Diego\",\n",
    "        \"Email\": \"rayhaanss786@gmail.com\",\n",
    "    })\n",
    "\n",
    "    # add a row to list, an Info record\n",
    "    InfoDb.append({\n",
    "        \"FirstName\": \"Shane\",\n",
    "        \"LastName\": \"Lopez\",\n",
    "        \"DOB\": \"February 27\",\n",
    "        \"Residence\": \"San Diego\",\n",
    "        \"Email\": \"slopez@powayusd.com\",\n",
    "        \"Owns_Cars\": [\"2021-Insight\"]\n",
    "    })\n",
    "    \n",
    "    return jsonify(InfoDb) #helps u build a restful api jsonfiy()\n",
    "\n",
    "# add an HTML endpoint to flask app\n",
    "@app.route('/')\n",
    "def say_hello():\n",
    "    html_content = \"\"\"\n",
    "    <html>\n",
    "    <head>\n",
    "        <title>Hellox</title>\n",
    "    </head>\n",
    "    <body>\n",
    "        <h2>Hello, World!</h2>\n",
    "    </body>\n",
    "    </html>\n",
    "    \"\"\"\n",
    "    return html_content\n",
    "\n",
    "if __name__ == '__main__':\n",
    "    # starts flask server on default port, http://127.0.0.1:5001\n",
    "    app.run(port=5001)"
   ]
  },
  {
   "cell_type": "markdown",
   "metadata": {},
   "source": [
    "### Explore the Python/Flask process with Linux\n",
    "This script discovers the running flask process on your machine using Linux commands.\n",
    "\n",
    "1. lsof - list open files\n",
    "2. `lsof` and `awk` return the process id, so `ps` can list details, the vericle bar is called a `pipe`.  A pipe flows output from one command to the next.\n",
    "3. `curl` is a Linux utiltity that is easiest way to test if web server is responding"
   ]
  },
  {
   "cell_type": "code",
   "execution_count": 7,
   "metadata": {
    "vscode": {
     "languageId": "bat"
    }
   },
   "outputs": [
    {
     "name": "stdout",
     "output_type": "stream",
     "text": [
      "Python open files on port 5001\n",
      "\n",
      "Python process\n",
      "    PID TTY          TIME CMD\n",
      "    431 pts/0    00:00:00 sh\n",
      "    432 pts/0    00:00:00 sh\n",
      "    437 pts/0    00:00:00 sh\n",
      "    441 pts/0    00:00:24 node\n",
      "    639 pts/0    00:00:07 node\n",
      "   4887 pts/0    00:00:53 node\n",
      "   4925 pts/0    00:00:01 node\n",
      "   4959 pts/0    00:00:01 pet\n",
      "   5398 pts/0    00:00:07 node\n",
      "   5756 pts/0    00:00:02 node\n",
      "   5788 pts/0    00:00:01 node\n",
      "   9203 pts/0    00:00:01 python\n",
      "   9561 pts/0    00:00:00 node\n",
      "  10641 pts/0    00:00:00 python\n",
      "  10643 pts/0    00:00:00 bash\n",
      "  10647 pts/0    00:00:00 xargs\n",
      "  10648 pts/0    00:00:00 ps\n",
      "\n",
      "Content of the Python root endpoint (aka /), using curl,\n"
     ]
    },
    {
     "name": "stderr",
     "output_type": "stream",
     "text": [
      "your 131072x1 screen size is bogus. expect trouble\n",
      "  % Total    % Received % Xferd  Average Speed   Time    Time     Time  Current\n",
      "                                 Dload  Upload   Total   Spent    Left  Speed\n",
      "  0     0    0     0    0     0      0      0 --:--:-- --:--:-- --:--:--     0\n",
      "curl: (7) Failed to connect to localhost port 5001 after 0 ms: Connection refused\n"
     ]
    },
    {
     "ename": "CalledProcessError",
     "evalue": "Command 'b'\\n# After app.run(), see the the Python open files on port 5001\\necho \"Python open files on port 5001\" \\nlsof -i :5001\\n# see the the Python process \\necho\\necho \"Python process\"\\nlsof -i :5001 | awk \\'/Python/ {print $2}\\' | xargs ps\\n# show ontent of the Python server using curl\\necho\\necho \"Content of the Python root endpoint (aka /), using curl\",  \\ncurl http://localhost:5001/\\n\\n'' returned non-zero exit status 7.",
     "output_type": "error",
     "traceback": [
      "\u001b[0;31m---------------------------------------------------------------------------\u001b[0m",
      "\u001b[0;31mCalledProcessError\u001b[0m                        Traceback (most recent call last)",
      "\u001b[0;32m/tmp/ipykernel_9203/4242347788.py\u001b[0m in \u001b[0;36m<module>\u001b[0;34m\u001b[0m\n\u001b[0;32m----> 1\u001b[0;31m \u001b[0mget_ipython\u001b[0m\u001b[0;34m(\u001b[0m\u001b[0;34m)\u001b[0m\u001b[0;34m.\u001b[0m\u001b[0mrun_cell_magic\u001b[0m\u001b[0;34m(\u001b[0m\u001b[0;34m'script'\u001b[0m\u001b[0;34m,\u001b[0m \u001b[0;34m'bash'\u001b[0m\u001b[0;34m,\u001b[0m \u001b[0;34m'\\n# After app.run(), see the the Python open files on port 5001\\necho \"Python open files on port 5001\" \\nlsof -i :5001\\n# see the the Python process \\necho\\necho \"Python process\"\\nlsof -i :5001 | awk \\'/Python/ {print $2}\\' | xargs ps\\n# show ontent of the Python server using curl\\necho\\necho \"Content of the Python root endpoint (aka /), using curl\",  \\ncurl http://localhost:5001/\\n\\n'\u001b[0m\u001b[0;34m)\u001b[0m\u001b[0;34m\u001b[0m\u001b[0;34m\u001b[0m\u001b[0m\n\u001b[0m",
      "\u001b[0;32m/usr/lib/python3/dist-packages/IPython/core/interactiveshell.py\u001b[0m in \u001b[0;36mrun_cell_magic\u001b[0;34m(self, magic_name, line, cell)\u001b[0m\n\u001b[1;32m   2417\u001b[0m             \u001b[0;32mwith\u001b[0m \u001b[0mself\u001b[0m\u001b[0;34m.\u001b[0m\u001b[0mbuiltin_trap\u001b[0m\u001b[0;34m:\u001b[0m\u001b[0;34m\u001b[0m\u001b[0;34m\u001b[0m\u001b[0m\n\u001b[1;32m   2418\u001b[0m                 \u001b[0margs\u001b[0m \u001b[0;34m=\u001b[0m \u001b[0;34m(\u001b[0m\u001b[0mmagic_arg_s\u001b[0m\u001b[0;34m,\u001b[0m \u001b[0mcell\u001b[0m\u001b[0;34m)\u001b[0m\u001b[0;34m\u001b[0m\u001b[0;34m\u001b[0m\u001b[0m\n\u001b[0;32m-> 2419\u001b[0;31m                 \u001b[0mresult\u001b[0m \u001b[0;34m=\u001b[0m \u001b[0mfn\u001b[0m\u001b[0;34m(\u001b[0m\u001b[0;34m*\u001b[0m\u001b[0margs\u001b[0m\u001b[0;34m,\u001b[0m \u001b[0;34m**\u001b[0m\u001b[0mkwargs\u001b[0m\u001b[0;34m)\u001b[0m\u001b[0;34m\u001b[0m\u001b[0;34m\u001b[0m\u001b[0m\n\u001b[0m\u001b[1;32m   2420\u001b[0m             \u001b[0;32mreturn\u001b[0m \u001b[0mresult\u001b[0m\u001b[0;34m\u001b[0m\u001b[0;34m\u001b[0m\u001b[0m\n\u001b[1;32m   2421\u001b[0m \u001b[0;34m\u001b[0m\u001b[0m\n",
      "\u001b[0;32m<decorator-gen-103>\u001b[0m in \u001b[0;36mshebang\u001b[0;34m(self, line, cell)\u001b[0m\n",
      "\u001b[0;32m/usr/lib/python3/dist-packages/IPython/core/magic.py\u001b[0m in \u001b[0;36m<lambda>\u001b[0;34m(f, *a, **k)\u001b[0m\n\u001b[1;32m    185\u001b[0m     \u001b[0;31m# but it's overkill for just that one bit of state.\u001b[0m\u001b[0;34m\u001b[0m\u001b[0;34m\u001b[0m\u001b[0m\n\u001b[1;32m    186\u001b[0m     \u001b[0;32mdef\u001b[0m \u001b[0mmagic_deco\u001b[0m\u001b[0;34m(\u001b[0m\u001b[0marg\u001b[0m\u001b[0;34m)\u001b[0m\u001b[0;34m:\u001b[0m\u001b[0;34m\u001b[0m\u001b[0;34m\u001b[0m\u001b[0m\n\u001b[0;32m--> 187\u001b[0;31m         \u001b[0mcall\u001b[0m \u001b[0;34m=\u001b[0m \u001b[0;32mlambda\u001b[0m \u001b[0mf\u001b[0m\u001b[0;34m,\u001b[0m \u001b[0;34m*\u001b[0m\u001b[0ma\u001b[0m\u001b[0;34m,\u001b[0m \u001b[0;34m**\u001b[0m\u001b[0mk\u001b[0m\u001b[0;34m:\u001b[0m \u001b[0mf\u001b[0m\u001b[0;34m(\u001b[0m\u001b[0;34m*\u001b[0m\u001b[0ma\u001b[0m\u001b[0;34m,\u001b[0m \u001b[0;34m**\u001b[0m\u001b[0mk\u001b[0m\u001b[0;34m)\u001b[0m\u001b[0;34m\u001b[0m\u001b[0;34m\u001b[0m\u001b[0m\n\u001b[0m\u001b[1;32m    188\u001b[0m \u001b[0;34m\u001b[0m\u001b[0m\n\u001b[1;32m    189\u001b[0m         \u001b[0;32mif\u001b[0m \u001b[0mcallable\u001b[0m\u001b[0;34m(\u001b[0m\u001b[0marg\u001b[0m\u001b[0;34m)\u001b[0m\u001b[0;34m:\u001b[0m\u001b[0;34m\u001b[0m\u001b[0;34m\u001b[0m\u001b[0m\n",
      "\u001b[0;32m/usr/lib/python3/dist-packages/IPython/core/magics/script.py\u001b[0m in \u001b[0;36mshebang\u001b[0;34m(self, line, cell)\u001b[0m\n\u001b[1;32m    243\u001b[0m             \u001b[0msys\u001b[0m\u001b[0;34m.\u001b[0m\u001b[0mstderr\u001b[0m\u001b[0;34m.\u001b[0m\u001b[0mflush\u001b[0m\u001b[0;34m(\u001b[0m\u001b[0;34m)\u001b[0m\u001b[0;34m\u001b[0m\u001b[0;34m\u001b[0m\u001b[0m\n\u001b[1;32m    244\u001b[0m         \u001b[0;32mif\u001b[0m \u001b[0margs\u001b[0m\u001b[0;34m.\u001b[0m\u001b[0mraise_error\u001b[0m \u001b[0;32mand\u001b[0m \u001b[0mp\u001b[0m\u001b[0;34m.\u001b[0m\u001b[0mreturncode\u001b[0m\u001b[0;34m!=\u001b[0m\u001b[0;36m0\u001b[0m\u001b[0;34m:\u001b[0m\u001b[0;34m\u001b[0m\u001b[0;34m\u001b[0m\u001b[0m\n\u001b[0;32m--> 245\u001b[0;31m             \u001b[0;32mraise\u001b[0m \u001b[0mCalledProcessError\u001b[0m\u001b[0;34m(\u001b[0m\u001b[0mp\u001b[0m\u001b[0;34m.\u001b[0m\u001b[0mreturncode\u001b[0m\u001b[0;34m,\u001b[0m \u001b[0mcell\u001b[0m\u001b[0;34m,\u001b[0m \u001b[0moutput\u001b[0m\u001b[0;34m=\u001b[0m\u001b[0mout\u001b[0m\u001b[0;34m,\u001b[0m \u001b[0mstderr\u001b[0m\u001b[0;34m=\u001b[0m\u001b[0merr\u001b[0m\u001b[0;34m)\u001b[0m\u001b[0;34m\u001b[0m\u001b[0;34m\u001b[0m\u001b[0m\n\u001b[0m\u001b[1;32m    246\u001b[0m \u001b[0;34m\u001b[0m\u001b[0m\n\u001b[1;32m    247\u001b[0m     \u001b[0;32mdef\u001b[0m \u001b[0m_run_script\u001b[0m\u001b[0;34m(\u001b[0m\u001b[0mself\u001b[0m\u001b[0;34m,\u001b[0m \u001b[0mp\u001b[0m\u001b[0;34m,\u001b[0m \u001b[0mcell\u001b[0m\u001b[0;34m,\u001b[0m \u001b[0mto_close\u001b[0m\u001b[0;34m)\u001b[0m\u001b[0;34m:\u001b[0m\u001b[0;34m\u001b[0m\u001b[0;34m\u001b[0m\u001b[0m\n",
      "\u001b[0;31mCalledProcessError\u001b[0m: Command 'b'\\n# After app.run(), see the the Python open files on port 5001\\necho \"Python open files on port 5001\" \\nlsof -i :5001\\n# see the the Python process \\necho\\necho \"Python process\"\\nlsof -i :5001 | awk \\'/Python/ {print $2}\\' | xargs ps\\n# show ontent of the Python server using curl\\necho\\necho \"Content of the Python root endpoint (aka /), using curl\",  \\ncurl http://localhost:5001/\\n\\n'' returned non-zero exit status 7."
     ]
    }
   ],
   "source": [
    "%%script bash\n",
    "\n",
    "# After app.run(), see the the Python open files on port 5001\n",
    "echo \"Python open files on port 5001\" \n",
    "lsof -i :5001\n",
    "# see the the Python process \n",
    "echo\n",
    "echo \"Python process\"\n",
    "lsof -i :5001 | awk '/Python/ {print $2}' | xargs ps\n",
    "# show ontent of the Python server using curl\n",
    "echo\n",
    "echo \"Content of the Python root endpoint (aka /), using curl\",  \n",
    "curl http://localhost:5001/\n",
    "\n"
   ]
  },
  {
   "cell_type": "markdown",
   "metadata": {},
   "source": [
    "### Access data from our Flask server using Python\n",
    "The code block below shows alternate ways to access the Web Server.\n",
    "1. Import requests and use it to obtain response from endpoints\n",
    "2. The response is a Python object that contains status codes and data\n",
    "3. The data can be in different forms, we will be focussed on JSON responses in Full-Stack."
   ]
  },
  {
   "cell_type": "code",
   "execution_count": null,
   "metadata": {},
   "outputs": [],
   "source": [
    "import requests\n",
    "from IPython.display import HTML, display\n",
    "\n",
    "# call api root endpoint (aka '/'), often called home page\n",
    "response = requests.get('http://127.0.0.1:5001/')\n",
    "# output response in different forms\n",
    "print(\"Print Status Message:\", response)\n",
    "print(\"\\nPrint Raw HTML:\\n\", response.text)\n",
    "display(HTML(response.text))\n",
    "\n",
    "# call unknown api endpoint\n",
    "response = requests.get('http://127.0.0.1:5001/unknown-page')\n",
    "print(\"Print Status Message:\", response)"
   ]
  },
  {
   "cell_type": "code",
   "execution_count": null,
   "metadata": {},
   "outputs": [],
   "source": [
    "import requests\n",
    "# an api endpoint most commonly returns JSON data\n",
    "response = requests.get('http://127.0.0.1:5001/api/data')\n",
    "response.json()"
   ]
  },
  {
   "cell_type": "markdown",
   "metadata": {},
   "source": [
    "### Access data from our Flask server using JavaScript\n",
    "This sample is very similar to Full-Stack as the JavaScript is running through Jupyter and the Web server is a Python Process running on our machine (local server).\n",
    "\n",
    "1. HTML is used to setup basics of a table\n",
    "2. The script block, has javascript fetch that passes endpoint (url) and options.  The options are critical to communicating request requirements.\n",
    "3. Similar to python examples, data is extracted and that data is written to the document, which is what is viewable to the user as the page is rendered.  Headings are static in the document, but rows are dynamically extracted according to the information contained in the server."
   ]
  },
  {
   "cell_type": "code",
   "execution_count": 1,
   "metadata": {
    "vscode": {
     "languageId": "html"
    }
   },
   "outputs": [
    {
     "data": {
      "text/html": [
       "\n",
       "<h1>Access data from our Flask server using JavaScript</h1>\n",
       "\n",
       "<p>This code extracts data \"live\" from a local Web Server with JavaScript fetch.  Additionally, it formats the data into a table.</p>\n",
       "\n",
       "<!-- Head contains information to Support the Document -->\n",
       "\n",
       "\n",
       "<!-- HTML table fragment for page -->\n",
       "<table id=\"demo\" class=\"table\">\n",
       "  <thead>\n",
       "      <tr>\n",
       "          <th>First Name</th>\n",
       "          <th>Last Name</th>\n",
       "          <th>Residence</th>\n",
       "      </tr>\n",
       "  </thead>\n",
       "  <tbody id=\"result\">\n",
       "    <!-- javascript generated data -->\n",
       "  </tbody>\n",
       "</table>\n",
       "\n",
       "<script>\n",
       "  // prepare HTML result container for new output\n",
       "  let resultContainer = document.getElementById(\"result\");\n",
       "  \n",
       "  // prepare URL\n",
       "  url = \"http://127.0.0.1:5001/api/data\";\n",
       "\n",
       "  // set options for cross origin header request\n",
       "  let options = {\n",
       "    method: 'GET', // *GET, POST, PUT, DELETE, etc.\n",
       "    mode: 'cors', // no-cors, *cors, same-origin\n",
       "    cache: 'default', // *default, no-cache, reload, force-cache, only-if-cached\n",
       "    credentials: 'include', // include, *same-origin, omit\n",
       "    headers: {\n",
       "      'Content-Type': 'application/json',\n",
       "    },\n",
       "  };\n",
       "\n",
       "  // fetch the API\n",
       "  fetch(url, options)\n",
       "    // response is a RESTful \"promise\" on any successful fetch\n",
       "    .then(response => {\n",
       "      // check for response errors and display\n",
       "      if (response.status !== 200) {\n",
       "          console.error(response.status);\n",
       "          return;\n",
       "      }\n",
       "      // valid response will contain json data\n",
       "      response.json().then(data => {\n",
       "          console.log(data);\n",
       "          for (const row of data) {\n",
       "            // tr and td build out for each row\n",
       "            const tr = document.createElement(\"tr\");\n",
       "            const firstname = document.createElement(\"td\");\n",
       "            const lastname = document.createElement(\"td\");\n",
       "            const residence = document.createElement(\"td\");\n",
       "            // data is specific to the API\n",
       "            firstname.innerHTML = row.FirstName; \n",
       "            lastname.innerHTML = row.LastName; \n",
       "            residence.innerHTML = row.Residence; \n",
       "            // this builds each td into tr\n",
       "            tr.appendChild(firstname);\n",
       "            tr.appendChild(lastname);\n",
       "            tr.appendChild(residence);\n",
       "            // add HTML to container\n",
       "            resultContainer.appendChild(tr);\n",
       "          }\n",
       "      })\n",
       "  })\n",
       "  \n",
       "</script>\n",
       "\n"
      ],
      "text/plain": [
       "<IPython.core.display.HTML object>"
      ]
     },
     "metadata": {},
     "output_type": "display_data"
    }
   ],
   "source": [
    "%%html\n",
    "\n",
    "<h1>Access data from our Flask server using JavaScript</h1>\n",
    "\n",
    "<p>This code extracts data \"live\" from a local Web Server with JavaScript fetch.  Additionally, it formats the data into a table.</p>\n",
    "\n",
    "<!-- Head contains information to Support the Document -->\n",
    "\n",
    "\n",
    "<!-- HTML table fragment for page -->\n",
    "<table id=\"demo\" class=\"table\">\n",
    "  <thead>\n",
    "      <tr>\n",
    "          <th>First Name</th>\n",
    "          <th>Last Name</th>\n",
    "          <th>Residence</th>\n",
    "      </tr>\n",
    "  </thead>\n",
    "  <tbody id=\"result\">\n",
    "    <!-- javascript generated data -->\n",
    "  </tbody>\n",
    "</table>\n",
    "\n",
    "<script>\n",
    "  // prepare HTML result container for new output\n",
    "  let resultContainer = document.getElementById(\"result\");\n",
    "  \n",
    "  // prepare URL\n",
    "  url = \"http://127.0.0.1:5001/api/data\";\n",
    "\n",
    "  // set options for cross origin header request\n",
    "  let options = {\n",
    "    method: 'GET', // *GET, POST, PUT, DELETE, etc.\n",
    "    mode: 'cors', // no-cors, *cors, same-origin\n",
    "    cache: 'default', // *default, no-cache, reload, force-cache, only-if-cached\n",
    "    credentials: 'include', // include, *same-origin, omit\n",
    "    headers: {\n",
    "      'Content-Type': 'application/json',\n",
    "    },\n",
    "  };\n",
    "\n",
    "  // fetch the API\n",
    "  fetch(url, options)\n",
    "    // response is a RESTful \"promise\" on any successful fetch\n",
    "    .then(response => {\n",
    "      // check for response errors and display\n",
    "      if (response.status !== 200) {\n",
    "          console.error(response.status);\n",
    "          return;\n",
    "      }\n",
    "      // valid response will contain json data\n",
    "      response.json().then(data => {\n",
    "          console.log(data);\n",
    "          for (const row of data) {\n",
    "            // tr and td build out for each row\n",
    "            const tr = document.createElement(\"tr\");\n",
    "            const firstname = document.createElement(\"td\");\n",
    "            const lastname = document.createElement(\"td\");\n",
    "            const residence = document.createElement(\"td\");\n",
    "            // data is specific to the API\n",
    "            firstname.innerHTML = row.FirstName; \n",
    "            lastname.innerHTML = row.LastName; \n",
    "            residence.innerHTML = row.Residence; \n",
    "            // this builds each td into tr\n",
    "            tr.appendChild(firstname);\n",
    "            tr.appendChild(lastname);\n",
    "            tr.appendChild(residence);\n",
    "            // add HTML to container\n",
    "            resultContainer.appendChild(tr);\n",
    "          }\n",
    "      })\n",
    "  })\n",
    "  \n",
    "</script>\n",
    "\n"
   ]
  },
  {
   "cell_type": "markdown",
   "metadata": {},
   "source": [
    "### Stop the Python/Flask process\n",
    "This script ends Python/Flask process using pipes to obtain the python process.  Then echo the python process to `kill -9`.  "
   ]
  },
  {
   "cell_type": "code",
   "execution_count": 2,
   "metadata": {
    "vscode": {
     "languageId": "bat"
    }
   },
   "outputs": [
    {
     "name": "stdout",
     "output_type": "stream",
     "text": [
      "Killing python process with PID: \n"
     ]
    },
    {
     "name": "stderr",
     "output_type": "stream",
     "text": [
      "\n",
      "Usage:\n",
      " kill [options] <pid> [...]\n",
      "\n",
      "Options:\n",
      " <pid> [...]            send signal to every <pid> listed\n",
      " -<signal>, -s, --signal <signal>\n",
      "                        specify the <signal> to be sent\n",
      " -q, --queue <value>    integer value to be sent with the signal\n",
      " -l, --list=[<signal>]  list all signal names, or convert one to a name\n",
      " -L, --table            list all signal names in a nice table\n",
      "\n",
      " -h, --help     display this help and exit\n",
      " -V, --version  output version information and exit\n",
      "\n",
      "For more details see kill(1).\n"
     ]
    },
    {
     "ename": "CalledProcessError",
     "evalue": "Command 'b'\\npython_ps=$(lsof -i :5001 | awk \\'/Python/ {print $2}\\')\\necho \"Killing python process with PID: $python_ps\"\\necho $python_ps | xargs kill -9\\n'' returned non-zero exit status 123.",
     "output_type": "error",
     "traceback": [
      "\u001b[0;31m---------------------------------------------------------------------------\u001b[0m",
      "\u001b[0;31mCalledProcessError\u001b[0m                        Traceback (most recent call last)",
      "\u001b[0;32m/tmp/ipykernel_13260/900364387.py\u001b[0m in \u001b[0;36m<module>\u001b[0;34m\u001b[0m\n\u001b[0;32m----> 1\u001b[0;31m \u001b[0mget_ipython\u001b[0m\u001b[0;34m(\u001b[0m\u001b[0;34m)\u001b[0m\u001b[0;34m.\u001b[0m\u001b[0mrun_cell_magic\u001b[0m\u001b[0;34m(\u001b[0m\u001b[0;34m'script'\u001b[0m\u001b[0;34m,\u001b[0m \u001b[0;34m'bash'\u001b[0m\u001b[0;34m,\u001b[0m \u001b[0;34m'\\npython_ps=$(lsof -i :5001 | awk \\'/Python/ {print $2}\\')\\necho \"Killing python process with PID: $python_ps\"\\necho $python_ps | xargs kill -9\\n'\u001b[0m\u001b[0;34m)\u001b[0m\u001b[0;34m\u001b[0m\u001b[0;34m\u001b[0m\u001b[0m\n\u001b[0m",
      "\u001b[0;32m/usr/lib/python3/dist-packages/IPython/core/interactiveshell.py\u001b[0m in \u001b[0;36mrun_cell_magic\u001b[0;34m(self, magic_name, line, cell)\u001b[0m\n\u001b[1;32m   2417\u001b[0m             \u001b[0;32mwith\u001b[0m \u001b[0mself\u001b[0m\u001b[0;34m.\u001b[0m\u001b[0mbuiltin_trap\u001b[0m\u001b[0;34m:\u001b[0m\u001b[0;34m\u001b[0m\u001b[0;34m\u001b[0m\u001b[0m\n\u001b[1;32m   2418\u001b[0m                 \u001b[0margs\u001b[0m \u001b[0;34m=\u001b[0m \u001b[0;34m(\u001b[0m\u001b[0mmagic_arg_s\u001b[0m\u001b[0;34m,\u001b[0m \u001b[0mcell\u001b[0m\u001b[0;34m)\u001b[0m\u001b[0;34m\u001b[0m\u001b[0;34m\u001b[0m\u001b[0m\n\u001b[0;32m-> 2419\u001b[0;31m                 \u001b[0mresult\u001b[0m \u001b[0;34m=\u001b[0m \u001b[0mfn\u001b[0m\u001b[0;34m(\u001b[0m\u001b[0;34m*\u001b[0m\u001b[0margs\u001b[0m\u001b[0;34m,\u001b[0m \u001b[0;34m**\u001b[0m\u001b[0mkwargs\u001b[0m\u001b[0;34m)\u001b[0m\u001b[0;34m\u001b[0m\u001b[0;34m\u001b[0m\u001b[0m\n\u001b[0m\u001b[1;32m   2420\u001b[0m             \u001b[0;32mreturn\u001b[0m \u001b[0mresult\u001b[0m\u001b[0;34m\u001b[0m\u001b[0;34m\u001b[0m\u001b[0m\n\u001b[1;32m   2421\u001b[0m \u001b[0;34m\u001b[0m\u001b[0m\n",
      "\u001b[0;32m<decorator-gen-103>\u001b[0m in \u001b[0;36mshebang\u001b[0;34m(self, line, cell)\u001b[0m\n",
      "\u001b[0;32m/usr/lib/python3/dist-packages/IPython/core/magic.py\u001b[0m in \u001b[0;36m<lambda>\u001b[0;34m(f, *a, **k)\u001b[0m\n\u001b[1;32m    185\u001b[0m     \u001b[0;31m# but it's overkill for just that one bit of state.\u001b[0m\u001b[0;34m\u001b[0m\u001b[0;34m\u001b[0m\u001b[0m\n\u001b[1;32m    186\u001b[0m     \u001b[0;32mdef\u001b[0m \u001b[0mmagic_deco\u001b[0m\u001b[0;34m(\u001b[0m\u001b[0marg\u001b[0m\u001b[0;34m)\u001b[0m\u001b[0;34m:\u001b[0m\u001b[0;34m\u001b[0m\u001b[0;34m\u001b[0m\u001b[0m\n\u001b[0;32m--> 187\u001b[0;31m         \u001b[0mcall\u001b[0m \u001b[0;34m=\u001b[0m \u001b[0;32mlambda\u001b[0m \u001b[0mf\u001b[0m\u001b[0;34m,\u001b[0m \u001b[0;34m*\u001b[0m\u001b[0ma\u001b[0m\u001b[0;34m,\u001b[0m \u001b[0;34m**\u001b[0m\u001b[0mk\u001b[0m\u001b[0;34m:\u001b[0m \u001b[0mf\u001b[0m\u001b[0;34m(\u001b[0m\u001b[0;34m*\u001b[0m\u001b[0ma\u001b[0m\u001b[0;34m,\u001b[0m \u001b[0;34m**\u001b[0m\u001b[0mk\u001b[0m\u001b[0;34m)\u001b[0m\u001b[0;34m\u001b[0m\u001b[0;34m\u001b[0m\u001b[0m\n\u001b[0m\u001b[1;32m    188\u001b[0m \u001b[0;34m\u001b[0m\u001b[0m\n\u001b[1;32m    189\u001b[0m         \u001b[0;32mif\u001b[0m \u001b[0mcallable\u001b[0m\u001b[0;34m(\u001b[0m\u001b[0marg\u001b[0m\u001b[0;34m)\u001b[0m\u001b[0;34m:\u001b[0m\u001b[0;34m\u001b[0m\u001b[0;34m\u001b[0m\u001b[0m\n",
      "\u001b[0;32m/usr/lib/python3/dist-packages/IPython/core/magics/script.py\u001b[0m in \u001b[0;36mshebang\u001b[0;34m(self, line, cell)\u001b[0m\n\u001b[1;32m    243\u001b[0m             \u001b[0msys\u001b[0m\u001b[0;34m.\u001b[0m\u001b[0mstderr\u001b[0m\u001b[0;34m.\u001b[0m\u001b[0mflush\u001b[0m\u001b[0;34m(\u001b[0m\u001b[0;34m)\u001b[0m\u001b[0;34m\u001b[0m\u001b[0;34m\u001b[0m\u001b[0m\n\u001b[1;32m    244\u001b[0m         \u001b[0;32mif\u001b[0m \u001b[0margs\u001b[0m\u001b[0;34m.\u001b[0m\u001b[0mraise_error\u001b[0m \u001b[0;32mand\u001b[0m \u001b[0mp\u001b[0m\u001b[0;34m.\u001b[0m\u001b[0mreturncode\u001b[0m\u001b[0;34m!=\u001b[0m\u001b[0;36m0\u001b[0m\u001b[0;34m:\u001b[0m\u001b[0;34m\u001b[0m\u001b[0;34m\u001b[0m\u001b[0m\n\u001b[0;32m--> 245\u001b[0;31m             \u001b[0;32mraise\u001b[0m \u001b[0mCalledProcessError\u001b[0m\u001b[0;34m(\u001b[0m\u001b[0mp\u001b[0m\u001b[0;34m.\u001b[0m\u001b[0mreturncode\u001b[0m\u001b[0;34m,\u001b[0m \u001b[0mcell\u001b[0m\u001b[0;34m,\u001b[0m \u001b[0moutput\u001b[0m\u001b[0;34m=\u001b[0m\u001b[0mout\u001b[0m\u001b[0;34m,\u001b[0m \u001b[0mstderr\u001b[0m\u001b[0;34m=\u001b[0m\u001b[0merr\u001b[0m\u001b[0;34m)\u001b[0m\u001b[0;34m\u001b[0m\u001b[0;34m\u001b[0m\u001b[0m\n\u001b[0m\u001b[1;32m    246\u001b[0m \u001b[0;34m\u001b[0m\u001b[0m\n\u001b[1;32m    247\u001b[0m     \u001b[0;32mdef\u001b[0m \u001b[0m_run_script\u001b[0m\u001b[0;34m(\u001b[0m\u001b[0mself\u001b[0m\u001b[0;34m,\u001b[0m \u001b[0mp\u001b[0m\u001b[0;34m,\u001b[0m \u001b[0mcell\u001b[0m\u001b[0;34m,\u001b[0m \u001b[0mto_close\u001b[0m\u001b[0;34m)\u001b[0m\u001b[0;34m:\u001b[0m\u001b[0;34m\u001b[0m\u001b[0;34m\u001b[0m\u001b[0m\n",
      "\u001b[0;31mCalledProcessError\u001b[0m: Command 'b'\\npython_ps=$(lsof -i :5001 | awk \\'/Python/ {print $2}\\')\\necho \"Killing python process with PID: $python_ps\"\\necho $python_ps | xargs kill -9\\n'' returned non-zero exit status 123."
     ]
    }
   ],
   "source": [
    "%%script bash\n",
    "\n",
    "python_ps=$(lsof -i :5001 | awk '/Python/ {print $2}')\n",
    "echo \"Killing python process with PID: $python_ps\"\n",
    "echo $python_ps | xargs kill -9"
   ]
  },
  {
   "cell_type": "markdown",
   "metadata": {},
   "source": [
    "## Hacks\n",
    "Edit, stop and start the web server.\n",
    "- Add to the Home Page\n",
    "- Add your own information to the Web API\n",
    "- Use from Template to start your own Team Flask project https://github.com/nighthawkcoders/flocker_backend"
   ]
  },
  {
   "cell_type": "markdown",
   "metadata": {},
   "source": [
    "## Notes 12/6\n",
    "- "
   ]
  }
 ],
 "metadata": {
  "kernelspec": {
   "display_name": "Python 3",
   "language": "python",
   "name": "python3"
  },
  "language_info": {
   "codemirror_mode": {
    "name": "ipython",
    "version": 3
   },
   "file_extension": ".py",
   "mimetype": "text/x-python",
   "name": "python",
   "nbconvert_exporter": "python",
   "pygments_lexer": "ipython3",
   "version": "3.10.12"
  },
  "orig_nbformat": 4
 },
 "nbformat": 4,
 "nbformat_minor": 2
}
